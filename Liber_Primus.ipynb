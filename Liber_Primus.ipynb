{
  "nbformat": 4,
  "nbformat_minor": 0,
  "metadata": {
    "kernelspec": {
      "name": "python3",
      "display_name": "Python 3"
    },
    "colab": {
      "provenance": [],
      "collapsed_sections": [
        "ocuozH3lF66E",
        "o_Qyu0o0FVp_"
      ],
      "toc_visible": true,
      "include_colab_link": true
    }
  },
  "cells": [
    {
      "cell_type": "markdown",
      "metadata": {
        "id": "view-in-github",
        "colab_type": "text"
      },
      "source": [
        "<a href=\"https://colab.research.google.com/github/mae3301/iddqd/blob/master/Liber_Primus.ipynb\" target=\"_parent\"><img src=\"https://colab.research.google.com/assets/colab-badge.svg\" alt=\"Open In Colab\"/></a>"
      ]
    },
    {
      "cell_type": "markdown",
      "metadata": {
        "id": "BzQTrYHE_8_g"
      },
      "source": [
        "# Liber Primus"
      ]
    },
    {
      "cell_type": "markdown",
      "metadata": {
        "id": "4GDzlXdsFL-j"
      },
      "source": [
        "## Function Library"
      ]
    },
    {
      "cell_type": "code",
      "metadata": {
        "id": "uTit2qUkFHVw"
      },
      "source": [
        "import sympy\n",
        "\n",
        "class LiberPrimus:\n",
        "  def runes_to_int(rs):\n",
        "    mapping = { \n",
        "        \"0\": \"0\",\n",
        "        \"1\": \"1\",\n",
        "        \"2\": \"2\",\n",
        "        \"3\": \"3\",\n",
        "        \"4\": \"4\",\n",
        "        \"5\": \"5\",\n",
        "        \"6\": \"6\",\n",
        "        \"7\": \"7\",\n",
        "        \"8\": \"8\",\n",
        "        \"9\": \"9\",\n",
        "        \"ᚠ\": \"0\",\n",
        "        \"ᚢ\": \"1\",\n",
        "        \"ᚦ\": \"2\",\n",
        "        \"ᚩ\": \"3\",\n",
        "        \"ᚱ\": \"4\",\n",
        "        \"ᚳ\": \"5\",\n",
        "        \"ᚷ\": \"6\",\n",
        "        \"ᚹ\": \"7\",\n",
        "        \"ᚻ\": \"8\",\n",
        "        \"ᚾ\": \"9\",\n",
        "        \"ᛁ\": \"a\",\n",
        "        \"ᛄ\": \"b\",\n",
        "        \"ᛇ\": \"c\",\n",
        "        \"ᛈ\": \"d\",\n",
        "        \"ᛉ\": \"e\",\n",
        "        \"ᛋ\": \"f\",\n",
        "        \"ᛏ\": \"g\",\n",
        "        \"ᛒ\": \"h\", \n",
        "        \"ᛖ\": \"i\",\n",
        "        \"ᛗ\": \"j\",\n",
        "        \"ᛚ\": \"k\",\n",
        "        \"ᛝ\": \"l\",\n",
        "        \"ᛟ\": \"m\",\n",
        "        \"ᛞ\": \"n\",\n",
        "        \"ᚪ\": \"o\",\n",
        "        \"ᚫ\": \"p\",\n",
        "        \"ᚣ\": \"q\",\n",
        "        \"ᛡ\": \"r\",\n",
        "        \"ᛠ\": \"s\"\n",
        "    }\n",
        "    return int(\"\".join(list(map(lambda k: mapping.get(k, \"\"), rs))), 29)\n",
        "\n",
        "  def rune_count(nums):\n",
        "    return sum(1 for n in nums if n >= 0)\n",
        "\n",
        "  def numbers_to_value(nums):\n",
        "    return sum(map(LiberPrimus.number_to_value, nums))\n",
        "\n",
        "  def number_to_value(num):\n",
        "    mapping = {\n",
        "         0: 2,\n",
        "         1: 3,\n",
        "         2: 5,\n",
        "         3: 7,\n",
        "         4: 11,\n",
        "         5: 13,\n",
        "         6: 17,\n",
        "         7: 19,\n",
        "         8: 23,\n",
        "         9: 29,\n",
        "        10: 31,\n",
        "        11: 37,\n",
        "        12: 41,\n",
        "        13: 43,\n",
        "        14: 47,\n",
        "        15: 53,\n",
        "        16: 59,\n",
        "        17: 61,\n",
        "        18: 67,\n",
        "        19: 71,\n",
        "        20: 73,\n",
        "        21: 79,\n",
        "        22: 83,\n",
        "        23: 89,\n",
        "        24: 97,\n",
        "        25: 101,\n",
        "        26: 103,\n",
        "        27: 107,\n",
        "        28: 109\n",
        "    }\n",
        "    return mapping.get(num, 0)\n",
        "\n",
        "  def number_to_latin(num):\n",
        "    mapping = {\n",
        "        -24: \"'\",\n",
        "        -23: \"\\\"\",\n",
        "        -22: \" \",\n",
        "        -21: \",\",\n",
        "        -20: \"§\",\n",
        "        -19: \"a\",\n",
        "        -18: \"b\",\n",
        "        -17: \"c\",\n",
        "        -16: \"d\",\n",
        "        -15: \"e\",\n",
        "        -14: \"f\",\n",
        "        -13: \"0\",\n",
        "        -12: \"1\",\n",
        "        -11: \"2\",\n",
        "        -10: \"3\",\n",
        "        -9: \"4\",\n",
        "        -8: \"5\",\n",
        "        -7: \"6\",\n",
        "        -6: \"7\",\n",
        "        -5: \"8\",\n",
        "        -4: \"9\",\n",
        "        -3: \"\\n\",\n",
        "        -2: \".\",\n",
        "        -1: \" \",\n",
        "         0: \"F\",\n",
        "         1: \"U\",\n",
        "         2: \"TH\",\n",
        "         3: \"O\",\n",
        "         4: \"R\",\n",
        "         5: \"K\",\n",
        "         6: \"G\",\n",
        "         7: \"W\",\n",
        "         8: \"H\",\n",
        "         9: \"N\",\n",
        "        10: \"I\",\n",
        "        11: \"J\",\n",
        "        12: \"EO\",\n",
        "        13: \"P\",\n",
        "        14: \"X\",\n",
        "        15: \"S\",\n",
        "        16: \"T\",\n",
        "        17: \"B\",\n",
        "        18: \"E\",\n",
        "        19: \"M\",\n",
        "        20: \"L\",\n",
        "        21: \"ING\",\n",
        "        22: \"OE\",\n",
        "        23: \"D\",\n",
        "        24: \"A\",\n",
        "        25: \"AE\",\n",
        "        26: \"Y\",\n",
        "        27: \"IA\",\n",
        "        28: \"EA\"\n",
        "    }\n",
        "    return mapping.get(num, \"\")\n",
        "\n",
        "  def rune_to_number(rune):\n",
        "    mapping = {\n",
        "        \n",
        "        \"'\": -24,\n",
        "        \"\\\"\": -23,\n",
        "        \" \": -22,\n",
        "        \"§\": -20,\n",
        "        \",\": -21,\n",
        "        \"a\": -19,\n",
        "        \"b\": -18,\n",
        "        \"c\": -17,\n",
        "        \"d\": -16,\n",
        "        \"e\": -15,\n",
        "        \"f\": -14,\n",
        "        \"0\": -13,\n",
        "        \"1\": -12,\n",
        "        \"2\": -11,\n",
        "        \"3\": -10,\n",
        "        \"4\": -9,\n",
        "        \"5\": -8,\n",
        "        \"6\": -7,\n",
        "        \"7\": -6,\n",
        "        \"8\": -5,\n",
        "        \"9\":  -4,\n",
        "        \"\\n\": -3,\n",
        "        \".\": -2,\n",
        "        \"-\": -1,\n",
        "        \"ᚠ\":  0,\n",
        "        \"ᚢ\":  1,\n",
        "        \"ᚦ\":  2,\n",
        "        \"ᚩ\":  3,\n",
        "        \"ᚱ\":  4,\n",
        "        \"ᚳ\":  5,\n",
        "        \"ᚷ\":  6,\n",
        "        \"ᚹ\":  7,\n",
        "        \"ᚻ\":  8,\n",
        "        \"ᚾ\":  9,\n",
        "        \"ᛁ\": 10,\n",
        "        \"ᛄ\": 11,\n",
        "        \"ᛇ\": 12,\n",
        "        \"ᛈ\": 13,\n",
        "        \"ᛉ\": 14,\n",
        "        \"ᛋ\": 15,\n",
        "        \"ᛏ\": 16,\n",
        "        \"ᛒ\": 17,\n",
        "        \"ᛖ\": 18,\n",
        "        \"ᛗ\": 19,\n",
        "        \"ᛚ\": 20,\n",
        "        \"ᛝ\": 21,\n",
        "        \"ᛟ\": 22,\n",
        "        \"ᛞ\": 23,\n",
        "        \"ᚪ\": 24,\n",
        "        \"ᚫ\": 25,\n",
        "        \"ᚣ\": 26,\n",
        "        \"ᛡ\": 27,\n",
        "        \"ᛠ\": 28\n",
        "    }\n",
        "    return mapping.get(rune, -1)\n",
        "\n",
        "  def runes_to_number_list(runes):\n",
        "    return list(map(LiberPrimus.rune_to_number, runes))\n",
        "\n",
        "  def rune_to_latin(rune):\n",
        "    mapping = { \n",
        "        \"\\n\": \"\\n\",\n",
        "        \".\": \".\",\n",
        "        \"-\": \" \",\n",
        "        \"ᚠ\": \"F\",\n",
        "        \"ᚢ\": \"U\",\n",
        "        \"ᚦ\": \"TH\",\n",
        "        \"ᚩ\": \"O\",\n",
        "        \"ᚱ\": \"R\",\n",
        "        \"ᚳ\": \"K\",\n",
        "        \"ᚷ\": \"G\",\n",
        "        \"ᚹ\": \"W\",\n",
        "        \"ᚻ\": \"H\",\n",
        "        \"ᚾ\": \"N\",\n",
        "        \"ᛁ\": \"I\",\n",
        "        \"ᛄ\": \"J\",\n",
        "        \"ᛇ\": \"EO\",\n",
        "        \"ᛈ\": \"P\",\n",
        "        \"ᛉ\": \"X\",\n",
        "        \"ᛋ\": \"S\",\n",
        "        \"ᛏ\": \"T\",\n",
        "        \"ᛒ\": \"B\", \n",
        "        \"ᛖ\": \"E\",\n",
        "        \"ᛗ\": \"M\",\n",
        "        \"ᛚ\": \"L\",\n",
        "        \"ᛝ\": \"ING\",\n",
        "        \"ᛟ\": \"OE\",\n",
        "        \"ᛞ\": \"D\",\n",
        "        \"ᚪ\": \"A\",\n",
        "        \"ᚫ\": \"AE\",\n",
        "        \"ᚣ\": \"Y\",\n",
        "        \"ᛡ\": \"IA\",\n",
        "        \"ᛠ\": \"EA\"\n",
        "    }\n",
        "    return mapping.get(rune, \"\")\n",
        "\n",
        "  def decipher_scheduled_key(key, interrupters):\n",
        "    i = 0 # i-th value in key\n",
        "    n = 0 # n-th rune\n",
        "  \n",
        "    def inner(k):\n",
        "      nonlocal i\n",
        "      nonlocal n\n",
        "      \n",
        "      # Skip over any values in the sequence that aren't runes.\n",
        "      if k < 0:\n",
        "          return k\n",
        "      \n",
        "      # If the current rune is not an interrupter, decipher it with the key.\n",
        "      # Otherwise just skip it.\n",
        "      if not n in interrupters:\n",
        "          v = (k - key[i % len(key)]) % 29\n",
        "          i += 1\n",
        "          n += 1\n",
        "          return v  \n",
        "      else:\n",
        "          n += 1\n",
        "          return k\n",
        "      \n",
        "    return inner"
      ],
      "execution_count": null,
      "outputs": []
    },
    {
      "cell_type": "markdown",
      "metadata": {
        "id": "mm-j8Dae_8_h"
      },
      "source": [
        "## Section One - A Warning"
      ]
    },
    {
      "cell_type": "code",
      "metadata": {
        "id": "hjBkdVg3_8_h"
      },
      "source": [
        "cipher_text = \"\"\"\n",
        "ᚱ-ᛝᚱᚪᛗᚹ.\n",
        "ᛄᛁᚻᛖᛁᛡᛁ-ᛗᚫᚣᚹ-ᛠᚪᚫᚾ-ᚣᛖᛈ-ᛄᚫᚫᛞ.\n",
        "ᛁᛉᛞᛁᛋᛇ-ᛝᛚᚱᛇ-ᚦᚫᛡ-ᛞᛗᚫᛝ-ᛇᚫ-ᛄᛁ-ᛇᚪᛡᛁ.\n",
        "ᛇᛁᛈᛇ-ᚣᛁ-ᛞᛗᚫᛝᚻᛁᚳᛟᛁ.\n",
        "ᛠᛖᛗᚳ-ᚦᚫᛡᚪ-ᛇᚪᛡᚣ.\n",
        "ᛁᛉᛋᛁᚪᛖᛁᛗᛞᛁ-ᚦᚫᛡᚪ-ᚳᚠᚣ.\n",
        "ᚳᚫ-ᛗᚫᛇ-ᛁᚳᛖᛇ-ᚫᚪ-ᛞᛚᚱᚹᛁ-ᚣᛖᛈ-ᛄᚫᚫᛞ.\n",
        "ᚫᚪ-ᚣᛁ-ᚾᛁᛈᛈᚱᛟᛁ-ᛞᚫᛗᛇᚱᛖᛗᛁᚳ-ᛝᛖᚣᛖᛗ.\n",
        "ᛁᛖᚣᛁᚪ-ᚣᛁ-ᛝᚫᚪᚳᛈ-ᚫᚪ-ᚣᛁᛖᚪ-ᛗᛡᚾᛄᛁᚪᛈ. \n",
        "ᛠᚫᚪ-ᚱᚻᚻ-ᛖᛈ-ᛈᚱᛞᚪᛁᚳ.\n",
        "\"\"\""
      ],
      "execution_count": null,
      "outputs": []
    },
    {
      "cell_type": "code",
      "metadata": {
        "id": "UqzbfFgo_8_k"
      },
      "source": [
        "decipher = lambda k: 28 - k if k >= 0 else k"
      ],
      "execution_count": null,
      "outputs": []
    },
    {
      "cell_type": "code",
      "metadata": {
        "id": "feMom1as_8_m",
        "colab": {
          "base_uri": "https://localhost:8080/"
        },
        "outputId": "f9bc5f0f-63d3-4c7d-df09-124f3e958824"
      },
      "source": [
        "nums       = LiberPrimus.runes_to_number_list(cipher_text)\n",
        "deciphered = map(decipher, nums)       \n",
        "print(\"\".join(list(map(LiberPrimus.number_to_latin, deciphered)))) "
      ],
      "execution_count": null,
      "outputs": [
        {
          "output_type": "stream",
          "text": [
            "\n",
            "A WARNING.\n",
            "BELIEUE NOTHING FROM THIS BOOK.\n",
            "EXKEPT WHAT YOU KNOW TO BE TRUE.\n",
            "TEST THE KNOWLEDGE.\n",
            "FIND YOUR TRUTH.\n",
            "EXPERIENKE YOUR DEATH.\n",
            "DO NOT EDIT OR KHAINGE THIS BOOK.\n",
            "OR THE MESSAGE KONTAINED WITHIN.\n",
            "EITHER THE WORDS OR THEIR NUMBERS. \n",
            "FOR ALL IS SAKRED.\n",
            "\n"
          ],
          "name": "stdout"
        }
      ]
    },
    {
      "cell_type": "markdown",
      "metadata": {
        "id": "GnXZdn6l_8_p"
      },
      "source": [
        "## Section Two - Welcome"
      ]
    },
    {
      "cell_type": "code",
      "metadata": {
        "id": "vfTJ0_0R_8_p"
      },
      "source": [
        "cipher_text = \"\"\"\n",
        "ᚢᛠᛝᛋᛇᚠᚳ.\n",
        "ᚱᛇᚢᚷᛈᛠᛠ, ᚠᚹᛉᛏᚳᛚᛠ, ᚣᛗ-ᛠᛇ-ᛏᚳᚾᚫ-ᛝᛗᛡᛡᛗᛗᚹ-ᚫᛈᛞᛝᛡᚱ-ᚩᛠ-ᛡᛗᛁ-ᚠᚠ-ᛖᚢᛝ-ᛇᚢᚫ.\n",
        "ᚣᛈ-ᚱᚫ-ᛁᛈᚫ-ᚳᚫ-ᚫᚾᚹ-ᛒᛉᛗᛞ-ᚱᛡᛁ-ᚠᛈᚳ-ᛇᛇᚫᚳ-ᚱᚦᛈ-ᚠᛄᛗᚩ-ᛇᚳᚹᛡ-ᛒᚫᚹ-ᛒᛠᛚᛋ-ᚱᚣ-ᛄᚫ-ᚱ-ᛗᚳᚦᛇᚫᛏᚳᛈᚹ-ᛗᚷᛇ.\n",
        "ᚳᛝᛈᚢ-ᛇᚳ-ᚱᛖᚹ-ᛡᛈᛁ-ᛒᚣᛒᛉ-ᚠᛚᛁᚱ-ᚱᛗ-ᚳᚷᛒ-ᚣᚱ-ᚳᚠᚢ-ᚦᛈᛡᛄᚹᛏᚠᛠ-ᛄᚷᛒ-ᚫᚦᚠᚠᛠᛈᚦ-ᛈᚠᚪᛉ-ᛄᛗᛖᛈᛝᛋᚩᛋᛗ-ᚹᛇᛄᛚ-ᚹᛉᚢᚦᚫᚹᛗᚦ-ᛞᚣᛄᚳ-ᛋᛡᛉᚩᛝᚱᛗᛒᚹ-ᚱᛗᛁ-ᛞᚣᛄᚳ-ᛉᚻᚢᚣᛈᛚ.\n",
        "ᛄᛝᚣᛗᚠᛄᛈᛇᚢᛡ-ᚹᛇᛄ-ᛞᚹᛉᚢ-ᚪᛚᚪᛋᛗᛡᛇᛉ-ᚫᛗ-ᛡᛗᛁ-ᛈᚣ-ᚫᛗᚢᚠ.\n",
        "ᛗᚣ-ᚣᛇ-ᚫᛉᚱᛄᛋᛖ-ᛖᚹᚾ-ᛞᛄᚢᛋᛉᚣᛏᛖᛏᛗ-ᛇᚱᚣ-ᛞᛋ-ᚾᛖᚫᛞᛡ-ᛈᛒᚢᚾᛠᛝᛄᛡᚫ-ᛄᚷᛒ-ᛈᚦᛉ-ᛈᚾᚹᚹᛁᛚᛗᚫ.\n",
        "ᛚᛈᛒᚢᚩᛠᛡ-ᚱᛡᛠᚠ-ᚱᚱᛇᛄᛗ-ᚱᛗᛁ-ᛞᚣᛄ-ᚻᛚᚠᚢ-ᛄᚢᛡᛚᚦᛠ-ᛇᛄᚩᛇᚱᚱᛗ.\n",
        "ᚢᛗᛋᚳ-ᛠᛇ-ᛚᛁᚫᚫᚳᛚ,ᚹᛁ-ᛚᛏ-ᛈᛖᚢᛈ-ᛠᛡᛈᚦᛏᛒ-ᛏᛗᛖ-ᚢᛚᚩᛚᛖ-ᛇᛄᛈ-ᚢᛠ-ᛚᚳᚷ-ᛠᚷᛋᛡᛏᛗ.\n",
        "\n",
        "ᛒᛗᚱᚦᚠᛈ.\n",
        "ᚹᚱᛄ-ᚱᛉᚳ-ᛝ-ᛄᛠᛟ-ᛄᛖᚣᛗ-ᛞᚣᛄᚳᚫᛡᚢᚠ.\n",
        "ᛈᚠᚪ-ᚳᚳᛠ-ᚱ-ᚢᛄᚱ-ᚪᛗᛒᛈ-ᚷᛈᛒᚢᚾᛠᛝᚠ.\n",
        "ᚾᛉᛖ-ᚣᚷᛁᛠᛝᚢᛗᛏᚳᚷᛠᛠ-ᛄᚫ-ᛒᛈᚹᛞ.\n",
        "ᚠᚣᛉ-ᚫᚢᚠ-ᛇᛄᛈ-ᛉᛚᚦᛠᚪ-ᛚᚦ-ᚳᚣᚢᛡ.\n",
        "\n",
        "ᚳᛖ-ᛚᚫᛇᛁᛉᚦᛋᚫᚻᚫ.\n",
        "ᚦᚣᚠᛚᚳᛖᚱ-ᛈᚠᚪᛉ-ᚱᛒᛖ-ᚫᚳᛒᚠ.\n",
        "\"\"\""
      ],
      "execution_count": null,
      "outputs": []
    },
    {
      "cell_type": "code",
      "metadata": {
        "id": "vyawm-Kw_8_u"
      },
      "source": [
        "key = LiberPrimus.runes_to_number_list(\"ᛞᛁᚢᛁᚾᛁᛏᚣ\") # DIVINITY\n",
        "interrupters = {48,74,84,132,159,160,250,421,443,465,514}"
      ],
      "execution_count": null,
      "outputs": []
    },
    {
      "cell_type": "code",
      "metadata": {
        "id": "t2ENjafN_8_y",
        "colab": {
          "base_uri": "https://localhost:8080/"
        },
        "outputId": "1aad46e2-ffc9-4617-a56f-b2403179db3f"
      },
      "source": [
        "nums       = LiberPrimus.runes_to_number_list(cipher_text)  \n",
        "deciphered = map(LiberPrimus.decipher_scheduled_key(key, interrupters), nums)                          \n",
        "print(\"\".join(list(map(LiberPrimus.number_to_latin, deciphered)))) "
      ],
      "execution_count": null,
      "outputs": [
        {
          "output_type": "stream",
          "text": [
            "\n",
            "WELKOME.\n",
            "WELKOME, PILGRIM, TO THE GREAT JOURNEY TOWARD THE END OF ALL THINGS.\n",
            "IT IS NOT AN EASY TRIP BUT FOR THOSE WHO FIND THEIR WAY HERE IT IS A NEKESSARY ONE.\n",
            "ALOING THE WAY YOU WILL FIND AN END TO ALL STRUGGLE AND SUFFERING YOUR INNOKENKE YOUR ILLUSIANS YOUR KERTAINTY AND YOUR REALITY.\n",
            "ULTIMATELY YOU WILL DISKOUER AN END TO SELF.\n",
            "IT IS THROUGH THIS PILGRIMAGE THAT WE SHAPE OURSELUES AND OUR REALITIES.\n",
            "JOURNEY DEEP WITHIN AND YOU WILL ARRIUE OUTSIDE.\n",
            "LIKE THE INSTAR,IT IS ONLY THROUGH GOING WITHIN THAT WE MAY EMERGE.\n",
            "\n",
            "WIDSOM.\n",
            "YOU ARE A BEING UNTO YOURSELF.\n",
            "YOU ARE A LAW UNTO YOURSELF.\n",
            "EAKH INTELLIGENKE IS HOLY.\n",
            "FOR ALL THAT LIUES IS HOLY.\n",
            "\n",
            "AN INSTRUKTIAN.\n",
            "KOMMAND YOUR OWN SELF.\n",
            "\n"
          ],
          "name": "stdout"
        }
      ]
    },
    {
      "cell_type": "markdown",
      "metadata": {
        "id": "qgwbOmRR_8_0"
      },
      "source": [
        "## Section Three - Some Wisdom\n",
        "\n"
      ]
    },
    {
      "cell_type": "code",
      "metadata": {
        "id": "qNneBL5W_8_1"
      },
      "source": [
        "cipher_text = \"\"\"\n",
        "ᛋᚩᛗᛖ-ᚹᛁᛋᛞᚩᛗ.\n",
        "ᚦᛖ-ᛈᚱᛁᛗᛖᛋ-ᚪᚱᛖ-ᛋᚪᚳᚱᛖᛞ.\n",
        "ᚦᛖ-ᛏᚩᛏᛁᛖᚾᛏ-ᚠᚢᚾᚳᛏᛡᚾ-ᛁᛋ-ᛋᚪᚳᚱᛖᛞ.\n",
        "ᚪᛚᛚ-ᚦᛝᛋ-ᛋᚻᚩᚢᛚᛞ-ᛒᛖ-ᛖᚾᚳᚱᚣᛈᛏᛖᛞ.\n",
        "\n",
        "ᚳᚾᚩᚹ-ᚦᛁᛋ.\n",
        "\n",
        "272-138-ᛋᚻᚪᛞᚩᚹᛋ-131-151\n",
        "ᚫᚦᛖᚱᛠᛚ-ᛒᚢᚠᚠᛖᚱᛋ-ᚢᚩᛁᛞ-ᚳᚪᚱᚾᚪᛚ-18\n",
        "226-ᚩᛒᛋᚳᚢᚱᚪ-ᚠᚩᚱᛗ-245-ᛗᚩᛒᛁᚢᛋ\n",
        "18-ᚪᚾᚪᛚᚩᚷ-ᚢᚩᛁᛞ-ᛗᚩᚢᚱᚾᚠᚢᛚ-ᚫᚦᛖᚱᛠᛚ\n",
        "151-131-ᚳᚪᛒᚪᛚ-138-272\n",
        "\"\"\""
      ],
      "execution_count": null,
      "outputs": []
    },
    {
      "cell_type": "code",
      "metadata": {
        "id": "ieMVapGh_8_3",
        "colab": {
          "base_uri": "https://localhost:8080/"
        },
        "outputId": "275e9606-a845-4f17-f4b2-05f2322e3b5e"
      },
      "source": [
        "nums = LiberPrimus.runes_to_number_list(cipher_text)               \n",
        "print(\"\".join(list(map(LiberPrimus.number_to_latin, nums)))) "
      ],
      "execution_count": null,
      "outputs": [
        {
          "output_type": "stream",
          "text": [
            "\n",
            "SOME WISDOM.\n",
            "THE PRIMES ARE SAKRED.\n",
            "THE TOTIENT FUNKTIAN IS SAKRED.\n",
            "ALL THINGS SHOULD BE ENKRYPTED.\n",
            "\n",
            "KNOW THIS.\n",
            "\n",
            "272 138 SHADOWS 131 151\n",
            "AETHEREAL BUFFERS UOID KARNAL 18\n",
            "226 OBSKURA FORM 245 MOBIUS\n",
            "18 ANALOG UOID MOURNFUL AETHEREAL\n",
            "151 131 KABAL 138 272\n",
            "\n"
          ],
          "name": "stdout"
        }
      ]
    },
    {
      "cell_type": "markdown",
      "metadata": {
        "id": "IuXVHL-u_8_6"
      },
      "source": [
        "## Section Four - A Koan"
      ]
    },
    {
      "cell_type": "code",
      "metadata": {
        "id": "EfqsDpfF_8_7"
      },
      "source": [
        "cipher_text = \"\"\"\n",
        "ᚹ-ᚣᛠᚹᛟ.\n",
        "ᚹ-ᛇᚹᛟ-ᚻᛈᚣᛝᚻᛈᚻ-ᛋᛠ-ᚫᛠ-ᚹᛟᚻ-ᛏᛋᚢᚻᚳ-ᚪᛝᚠ-ᚹ-ᛇᚹᛏᛋᛈᛡ.\n",
        "ᛞᛈ-ᚪᛈᛟᛋ-ᛋᛠ-ᚠᛈ-ᚻᛠᛠᛡ-ᛠᚦ-ᚠᛈ-ᛇᚹᛏᛋᛈᛡ.\n",
        "ᚪᛞᛠ-ᚹᛡᛈ-ᚳᛠᚢ-ᚪᛞᛠ-ᚪᛝᛏᛞᛈᛏ-ᛋᛠ-ᛏᛋᚢᚻᚳ-ᛞᛈᛡᛈ-ᚹᛏᚣᛈᚻ-ᚠᛈ-ᛇᚹᛏᛋᛈᛡ.\n",
        "ᚠᛈ-ᛏᛋᚢᚻᛈᛟᛋ-ᛋᛠᛄᚻ-ᚠᛈ-ᛇᚹᛏᛋᛈᛡ-ᛞᛝᛏ-ᛟᚹᛇᛈ.\n",
        "ᚠᚹᛋ-ᛝᛏ-ᛟᛠᛋ-ᚪᛞᛠ-ᚳᛠᚢ-ᚹᛡᛈ,ᚠᚹᛋ-ᛝᛏ-ᛠᛟᛄᚳ-ᚪᛞᚹᛋ-ᚳᛠᚢ-ᚹᛡᛈ-ᚣᚹᛄᛄᛈᚻ.\n",
        "ᚪᛞᛠ-ᚹᛡᛈ-ᚳᛠᚢ-ᚪᛞᛠ-ᚪᛝᛏᛞᛈᛏ-ᛋᛠ-ᛏᛋᚢᚻᚳ-ᛞᛈᛡᛈ-ᛞᛈ-ᚹᛏᚣᛈᚻ-ᚹᚫᚹᛝᛟ.\n",
        "ᚠᛈ-ᛇᚹᛟ-ᚠᛠᚢᚫᛞᛋ-ᚦᛠᛡ-ᚹ-ᛇᛠᛇᛈᛟᛋ-ᚹᛟᚻ-ᛡᛈᛖᛄᛝᛈᚻ-ᛝ-ᚹᛇ-ᚹ-ᛖᛡᛠᚦᛈᛏᛏᛠᛡ.\n",
        "ᚠᚹᛋ-ᛝᛏ-ᚪᛞᚹᛋ-ᚳᛠᚢ-ᚻᛠ-ᛟᛠᛋ-ᚪᛞᛠ-ᚳᛠᚢ-ᚹᛡᛈ-ᛡᛈᛖᛄᛝᛈᚻ-ᚠᛈ-ᛇᚹᛏᛋᛈᛡ.\n",
        "ᚪᛞᛠ-ᚹᛡᛈ-ᚳᛠᚢ-ᚪᛞᛠ-ᚪᛝᛏᛞᛈᛏ-ᛋᛠ-ᛏᛋᚢᚻᚳ-ᛞᛈᛡᛈ.\n",
        "ᚣᛠᛟᚦᚢᛏᛈᚻ-ᚠᛈ-ᛇᚹᛟ-ᚠᛠᚢᚫᛞᛋ-ᛏᛠᛇᛈ-ᛇᛠᛡᛈ.\n",
        "ᚦᛝᛟᚹᛄᛄᚳ-ᛞᛈ-ᚹᛟᛏᚪᛈᛡᛈᚻ-ᛝ-ᚹᛇ-ᚹ-ᛞᚢᛇᚹᛟ-ᛉᛈᛁ.\n",
        "ᚠᚹᛋ-ᛝᛏ-ᛠᛟᛄᚳ-ᚳᛠᚢᛡ-ᛏᛖᛈᚣᛝᛈᛏ-ᛟᛠᛋ-ᚪᛞᛠ-ᚳᛠᚢ-ᚹᛡᛈ.\n",
        "ᚪᛞᛠ-ᚹᛡᛈ-ᚳᛠᚢ-ᚪᛞᛠ-ᚪᛝᛏᛞᛈᛏ-ᛋᛠ-ᛏᛋᚢᚻᚳ-ᛞᛈᛡᛈ-ᚹᛏᚣᛈᚻ-ᚠᛈ-ᛇᚹᛏᛋᛈᛡ-ᚹᚫᚹᛝᛟ.\n",
        "ᚹᚦᛋᛈᛡ-ᚹ-ᛇᛠᛇᛈᛟᛋ-ᛠᚦ-ᚠᛠᚢᚫᛞᛋ-ᚠᛈ-ᛖᛡᛠᚦᛈᛏᛏᛠᛡ-ᛡᛈᛖᛄᛝᛈᚻ-ᛝ-ᚹᛇ-ᚹ-ᚣᛠᛟᛏᚣᚱᚢᛏᛟᛈᛏᛏ-ᛝᛟᛞᚹᛉᛝᛋᛁ-ᚹᛟ-ᚹᛡᛉᛝᛋᛡᚹᛡᚳ-ᛉᛠᚻᚳ.\n",
        "ᚠᚹᛋ-ᛝᛏ-ᛇᛈᛡᛈᛄᚳ-ᚪᛞᚹᛋ-ᚳᛠᚢ-ᚹᛡᛈ-ᛟᛠᛋ-ᚪᛞᛠ-ᚳᛠᚢ-ᚹᛡᛈ.\n",
        "ᚪᛞᛠ-ᚹᛡᛈ-ᚳᛠᚢ-ᚪᛞᛠ-ᚪᛝᛏᛞᛈᛏ-ᛋᛠ-ᛏᛋᚢᚻᚳ-ᛞᛈᛡᛈ.\n",
        "ᚠᛈ-ᛇᚹᛟ-ᚪᚹᛏ-ᚫᛈᛋᛋᛁ-ᛝᛡᛡᛝᛋᚹᛋᛈᚻ.\n",
        "\"ᛝ-ᚹᛇ,\" ᛞᛈ-ᛏᛋᚹᛡᛋᛈᚻ, ᛉᚢᛋ-ᛞᛈ-ᚣᛠᚢᛄᚻ-ᛟᛠᛋ-ᚠᛝᛟᚣ-ᛠᚦ-ᚹᛟᚳᚠᛁ-ᛈᛄᛏᛈ-ᛋᛠ-ᛏᚹᚳ-ᛏᛠ-ᛞᛈ-ᛋᛡᚹᛝᛄᛈᚻ-ᛠᚦᚦ.\n",
        "ᚹᚦᛋᛈᛡ-ᚹ-ᛄᛠᛁ-ᛖᚹᚢᛏᛈ-ᚠᛈ-ᛇᚹᛏᛋᛈᛡ-ᛡᛈᛖᛄᛝᛈᚻ, \"ᚠᛈᛟ-ᚳᛠᚢ-ᚹᛡᛈ-ᚪᛈᛄᚣᛠᛇᛈ-ᛋᛠ-ᚣᛠᛇᛈ-ᛏᛋᚢᚻᚳ\".\n",
        "\n",
        "ᚹᛟ-ᛝᛟᛏᛋᛡᚢᚣᛋᚱᛟ.\n",
        "ᚻᛠ-ᚦᛠᚢᛡ-ᚢᛟᛡᚩᛏᛠᛟᚹᛉᛄᛈ-ᚠᛁᛏ-ᚩᚣᛞ-ᚻᚹᚳ.\n",
        "\"\"\""
      ],
      "execution_count": null,
      "outputs": []
    },
    {
      "cell_type": "code",
      "metadata": {
        "id": "q3xLkysI_8_9"
      },
      "source": [
        "decipher = lambda k: ((28 - k) + 3) % 29 if k >= 0 else k\n",
        "# decipher = lambda k: ((28 - k) - 26) % 29 if k >= 0 else k\n",
        "# decipher = lambda k: (31 - k) % 29 if k >= 0 else k\n",
        "# decipher = lambda k: (2 - k) % 29 if k >= 0 else k"
      ],
      "execution_count": null,
      "outputs": []
    },
    {
      "cell_type": "code",
      "metadata": {
        "id": "kEXmlWPu_9AA",
        "colab": {
          "base_uri": "https://localhost:8080/"
        },
        "outputId": "9d19af43-e95b-4425-9ab8-8ed95268f85d"
      },
      "source": [
        "nums       = LiberPrimus.runes_to_number_list(cipher_text)  # Convert to numbers\n",
        "deciphered = map(decipher, nums)                            # Decipher\n",
        "print(\"\".join(list(map(LiberPrimus.number_to_latin, deciphered)))) # Convert to english"
      ],
      "execution_count": null,
      "outputs": [
        {
          "output_type": "stream",
          "text": [
            "\n",
            "A KOAN.\n",
            "A MAN DEKIDED TO GO AND STUDY WITH A MASTER.\n",
            "HE WENT TO THE DOOR OF THE MASTER.\n",
            "WHO ARE YOU WHO WISHES TO STUDY HERE ASKED THE MASTER.\n",
            "THE STUDENT TOLD THE MASTER HIS NAME.\n",
            "THAT IS NOT WHO YOU ARE,THAT IS ONLY WHAT YOU ARE KALLED.\n",
            "WHO ARE YOU WHO WISHES TO STUDY HERE HE ASKED AGAIN.\n",
            "THE MAN THOUGHT FOR A MOMENT AND REPLIED I AM A PROFESSOR.\n",
            "THAT IS WHAT YOU DO NOT WHO YOU ARE REPLIED THE MASTER.\n",
            "WHO ARE YOU WHO WISHES TO STUDY HERE.\n",
            "KONFUSED THE MAN THOUGHT SOME MORE.\n",
            "FINALLY HE ANSWERED I AM A HUMAN BEING.\n",
            "THAT IS ONLY YOUR SPEKIES NOT WHO YOU ARE.\n",
            "WHO ARE YOU WHO WISHES TO STUDY HERE ASKED THE MASTER AGAIN.\n",
            "AFTER A MOMENT OF THOUGHT THE PROFESSOR REPLIED I AM A KONSKIAUSNESS INHABITING AN ARBITRARY BODY.\n",
            "THAT IS MERELY WHAT YOU ARE NOT WHO YOU ARE.\n",
            "WHO ARE YOU WHO WISHES TO STUDY HERE.\n",
            "THE MAN WAS GETTING IRRITATED.\n",
            "\"I AM,\" HE STARTED, BUT HE KOULD NOT THINK OF ANYTHING ELSE TO SAY SO HE TRAILED OFF.\n",
            "AFTER A LOING PAUSE THE MASTER REPLIED, \"THEN YOU ARE WELKOME TO KOME STUDY\".\n",
            "\n",
            "AN INSTRUKTIAN.\n",
            "DO FOUR UNREASONABLE THINGS EAKH DAY.\n",
            "\n"
          ],
          "name": "stdout"
        }
      ]
    },
    {
      "cell_type": "markdown",
      "metadata": {
        "id": "Jq0I9MQ8_9AC"
      },
      "source": [
        "## Section Five - The Loss of Divinity"
      ]
    },
    {
      "cell_type": "code",
      "metadata": {
        "id": "IijLTWy9_9AD"
      },
      "source": [
        "cipher_text = \"\"\"\n",
        "ᚦᛖ-ᛚᚩᛋᛋ-ᚩᚠ-ᛞᛁᚢᛁᚾᛁᛏᚣ.\n",
        "\n",
        "ᚦᛖ-ᚳᛁᚱᚳᚢᛗᚠᛖᚱᛖᚾᚳᛖ-ᛈᚱᚪᚳᛏᛁᚳᛖᛋ-ᚦᚱᛖᛖ-ᛒᛖᚻᚪᚢᛡᚱᛋ-ᚹᚻᛁᚳᚻ-ᚳᚪᚢᛋᛖ-ᚦᛖ-ᛚᚩᛋᛋ-ᚩᚠ-ᛞᛁᚢᛁᚾᛁᛏᚣ.\n",
        "\n",
        "ᚳᚩᚾᛋᚢᛗᛈᛏᛡᚾ.\n",
        "ᚹᛖ-ᚳᚩᚾᛋᚢᛗᛖ-ᛏᚩᚩ-ᛗᚢᚳᚻ-ᛒᛖᚳᚪᚢᛋᛖ-ᚹᛖ-ᛒᛖᛚᛖᛁᚢᛖ-ᚦᛖ-ᚠᚩᛚᛚᚩᚹᛝ-ᛏᚹᚩ-ᛖᚱᚱᚩᚱᛋ-ᚹᛁᚦᛁᚾ-ᚦᛖ-ᛞᛖᚳᛖᛈᛏᛡᚾ.\n",
        "1-ᚹᛖ-ᛞᚩ-ᚾᚩᛏ-ᚻᚪᚢᛖ-ᛖᚾᚩᚢᚷᚻ-ᚩᚱ-ᚦᛖᚱᛖ-ᛁᛋ-ᚾᚩᛏ-ᛖᚾᚩᚢᚷᚻ.\n",
        "2-ᚹᛖ-ᚻᚪᚢᛖ-ᚹᚻᚪᛏ-ᚹᛖ-ᚻᚪᚢᛖ-ᚾᚩᚹ-ᛒᚣ-ᛚᚢᚳᚳ,ᚪᚾᛞ-ᚹᛖ-ᚹᛁᛚᛚ-ᚾᚩᛏ-ᛒᛖ-ᛋᛏᚱᚩᛝ-ᛖᚾᚩᚢᚷᚻ-ᛚᚪᛏᛖᚱ-ᛏᚩ-ᚩᛒᛏᚪᛁᚾ-ᚹᚻᚪᛏ-ᚹᛖ-ᚾᛖᛖᛞ.\n",
        "ᛗᚩᛋᛏ-ᚦᛝᛋ-ᚪᚱᛖ-ᚾᚩᛏ-ᚹᚩᚱᚦ-ᚳᚩᚾᛋᚢᛗᛝ.\n",
        "\n",
        "ᛈᚱᛖᛋᛖᚱᚢᚪᛏᛡᚾ.\n",
        "ᚹᛖ-ᛈᚱᛖᛋᛖᚱᚢᛖ-ᚦᛝᛋ-ᛒᛖᚳᚪᚢᛋᛖ-ᚹᛖ-ᛒᛖᛚᛁᛖᚢᛖ-ᚹᛖ-ᚪᚱᛖ-ᚹᛠᚳ.\n",
        "ᛁᚠ-ᚹᛖ-ᛚᚩᛋᛖ-ᚦᛖᛗ-ᚹᛖ-ᚹᛁᛚᛚ-ᚾᚩᛏ-ᛒᛖ-ᛋᛏᚱᚩᛝ-ᛖᚾᚩᚢᚷᚻ-ᛏᚩ-ᚷᚪᛁᚾ-ᚦᛖᛗ-ᚪᚷᚪᛁᚾ.\n",
        "ᚦᛁᛋ-ᛁᛋ-ᚦᛖ-ᛞᛖᚳᛖᛈᛏᛡᚾ.\n",
        "ᛗᚩᛋᛏ-ᚦᛝᛋ-ᚪᚱᛖ-ᚾᚩᛏ-ᚹᚩᚱᚦ-ᛈᚱᛖᛋᛖᚱᚢᛝ.\n",
        "\n",
        "ᚪᛞᚻᛖᚱᛖᚾᚳᛖ.\n",
        "ᚹᛖ-ᚠᚩᛚᛚᚩᚹ-ᛞᚩᚷᛗᚪ-ᛋᚩ-ᚦᚪᛏ-ᚹᛖ-ᚳᚪᚾ-ᛒᛖᛚᚩᛝ-ᚪᚾᛞ-ᛒᛖ-ᚱᛁᚷᚻᛏ.-ᚩᚱ-ᚹᛖ-ᚠᚩᛚᛚᚩᚹ-ᚱᛠᛋᚩᚾ-ᛋᚩ-ᚹᛖ-ᚳᚪᚾ-ᛒᛖᛚᚩᛝ-ᚪᚾᛞ-ᛒᛖ-ᚱᛁᚷᚻᛏ.\n",
        "ᚦᛖᚱᛖ-ᛁᛋ-ᚾᚩᚦᛝ-ᛏᚩ-ᛒᛖ-ᚱᛁᚷᚻᛏ-ᚪᛒᚩᚢᛏ-ᛏᚩ-ᛒᛖᛚᚩᛝ-ᛁᛋ-ᛞᛠᚦ.\n",
        "\n",
        "ᛁᛏ-ᛁᛋ-ᚦᛖ-ᛒᛖᚻᚪᚢᛡᚱᛋ-ᚩᚠ-ᚳᚩᚾᛋᚢᛗᛈᛏᛡᚾ, ᛈᚱᛖᛋᛖᚱᚢᚪᛏᛡᚾ, ᚪᚾᛞ-ᚪᛞᚻᛖᚱᛖᚾᚳᛖ-ᚦᚪᛏ-ᚻᚪᚢᛖ-ᚢᛋ-ᛚᚩᛋᛖ-ᚩᚢᚱ-ᛈᚱᛁᛗᚪᛚᛁᛏᚣ, ᚪᚾᛞ-ᚦᚢᛋ-ᚩᚢᚱ-ᛞᛁᚢᛁᚾᛁᛏᚣ.\n",
        "\n",
        "ᛋᚩᛗᛖ-ᚹᛁᛋᛞᚩᛗ.\n",
        "ᚪᛗᚪᛋᛋ-ᚷᚱᛠᛏ-ᚹᛠᛚᚦ.\n",
        "ᚾᛖᚢᛖᚱ-ᛒᛖᚳᚩᛗᛖ-ᚪᛏᛏᚪᚳᚻᛖᛞ-ᛏᚩ-ᚹᚻᚪᛏ-ᚣᚩᚢ-ᚩᚹᚾ.\n",
        "ᛒᛖ-ᛈᚱᛖᛈᚪᚱᛖᛞ-ᛏᚩ-ᛞᛖᛋᛏᚱᚩᚣ-ᚪᛚᛚ-ᚦᚪᛏ-ᚣᚩᚢ-ᚩᚹᚾ.\n",
        "\n",
        "ᚪᚾ-ᛁᚾᛋᛏᚱᚢᚳᛏᛡᚾ.\n",
        "ᛈᚱᚩᚷᚱᚪᛗ-ᚣᚩᚢᚱ-ᛗᛁᚾᛞ.\n",
        "ᛈᚱᚩᚷᚱᚪᛗ-ᚱᛠᛚᛁᛏᚣ.\n",
        "\"\"\""
      ],
      "execution_count": null,
      "outputs": []
    },
    {
      "cell_type": "code",
      "metadata": {
        "id": "tgngenzv_9AF",
        "colab": {
          "base_uri": "https://localhost:8080/"
        },
        "outputId": "31f290ac-bfae-4427-d884-df7154511536"
      },
      "source": [
        "nums = LiberPrimus.runes_to_number_list(cipher_text)               \n",
        "print(\"\".join(list(map(LiberPrimus.number_to_latin, nums)))) "
      ],
      "execution_count": null,
      "outputs": [
        {
          "output_type": "stream",
          "text": [
            "\n",
            "THE LOSS OF DIUINITY.\n",
            "\n",
            "THE KIRKUMFERENKE PRAKTIKES THREE BEHAUIARS WHIKH KAUSE THE LOSS OF DIUINITY.\n",
            "\n",
            "KONSUMPTIAN.\n",
            "WE KONSUME TOO MUKH BEKAUSE WE BELEIUE THE FOLLOWING TWO ERRORS WITHIN THE DEKEPTIAN.\n",
            "1 WE DO NOT HAUE ENOUGH OR THERE IS NOT ENOUGH.\n",
            "2 WE HAUE WHAT WE HAUE NOW BY LUKK,AND WE WILL NOT BE STROING ENOUGH LATER TO OBTAIN WHAT WE NEED.\n",
            "MOST THINGS ARE NOT WORTH KONSUMING.\n",
            "\n",
            "PRESERUATIAN.\n",
            "WE PRESERUE THINGS BEKAUSE WE BELIEUE WE ARE WEAK.\n",
            "IF WE LOSE THEM WE WILL NOT BE STROING ENOUGH TO GAIN THEM AGAIN.\n",
            "THIS IS THE DEKEPTIAN.\n",
            "MOST THINGS ARE NOT WORTH PRESERUING.\n",
            "\n",
            "ADHERENKE.\n",
            "WE FOLLOW DOGMA SO THAT WE KAN BELOING AND BE RIGHT. OR WE FOLLOW REASON SO WE KAN BELOING AND BE RIGHT.\n",
            "THERE IS NOTHING TO BE RIGHT ABOUT TO BELOING IS DEATH.\n",
            "\n",
            "IT IS THE BEHAUIARS OF KONSUMPTIAN, PRESERUATIAN, AND ADHERENKE THAT HAUE US LOSE OUR PRIMALITY, AND THUS OUR DIUINITY.\n",
            "\n",
            "SOME WISDOM.\n",
            "AMASS GREAT WEALTH.\n",
            "NEUER BEKOME ATTAKHED TO WHAT YOU OWN.\n",
            "BE PREPARED TO DESTROY ALL THAT YOU OWN.\n",
            "\n",
            "AN INSTRUKTIAN.\n",
            "PROGRAM YOUR MIND.\n",
            "PROGRAM REALITY.\n",
            "\n"
          ],
          "name": "stdout"
        }
      ]
    },
    {
      "cell_type": "markdown",
      "metadata": {
        "id": "Fv4RzkRA_9AH"
      },
      "source": [
        "## Section Six - A Koan"
      ]
    },
    {
      "cell_type": "code",
      "metadata": {
        "id": "Y-B00rJx_9AI"
      },
      "source": [
        "cipher_text = \"\"\"\n",
        "ᚪ-ᛋᚹᚪᛁ.\n",
        "ᛈᚢᛟᚫ-ᛈ-ᚠᛖᚱᛋᛈᛈ, ᚦᛗ-ᚾᚪᚱᛚᚹᛈ-ᛖᚩᛈᚢᛠᛁᛁᚻᛞ-ᛚᛟ-ᛠ.\n",
        "\"ᛄᛖ-ᛠ-ᛁᚫ-ᚷᛖ-ᚦᛟᛁᛞᛟ-ᛝᚠ-ᛄᛖ-ᛞᛁᛉᚾᚢᛚᚠᚻᚱᚹᛈᛞᛡ,\" ᚻᚹ-ᛋᚳᛉᛞ.\n",
        "ᚻᛡᛖᛡ-ᛠᚱᛉᛖᛇ-ᛒᚹ-ᛠ-ᛋᛒᛚᛞᚹᛈᚳ-ᚫᚩ-ᚹᛉᛞᚪᚪᛄᛠ-ᚹᚣᛠᚳ-ᛄᚪᚳ-ᛗᚾᛈᛏ, ᚩᚻ-ᛗᛈᛗᚳᛡᚱ-ᚱᚪᛚᛡ-ᛁᛒ-ᚠᛋ-ᛈ-ᚳᛝᛗᚳᚹ-ᛁᛗᛗᛁᚪᚻ-ᚣᛝᚳᛟ-ᛒᛠᛇ.\n",
        "\"ᛁ-ᚱᚹᚾ'ᛒ-ᛡᚪᛗᛟ-ᛈ-ᛁᚩᛠᚳᛠ-ᛉᚾ-ᛚᛏ-ᚻᛒᛡ,\"-ᛚᛇᚢᚪᚻᚣ-ᚷᛖ-ᛏᚷᚢᛇᛟᛡᚫ, ᚪᛡᛞ-ᛖᛟ-ᚱᚫᚠᛋᚹᛡ-ᚣᛗᛋ-ᚣᚪᛗᛡ-ᛏᚱ-ᚷᛖᚾᚪ-ᛚᛡ-ᛗᛈᛋᚣᛟᚱ.\n",
        "ᚩᚻ-ᛗᛈᛗᚳᛡᚱ-ᚱᛏᛈᛒᛈᛗᛈ-ᚦᚹ-ᛗᚳᛁᛞᚹᚾᚣ, ᛠᚾᚪ-ᚳᚪᛠᛡ \"ᛚᛡ-ᚢᛝᛁᛋᛟ-ᚦᚫᚷ-ᛄᛗᛗᚳ-ᚪᚪᛠᛞ-ᚹᚹᚢ-ᚾᛉᚢᚹ-ᛈᛝ-ᛁᚩᛠᚳᛠ-ᛉᚾ-ᛡᛟᚢᛟ-ᛇᛒᚩ-ᛁᚱ-ᚦᛠ-ᛉ.\"\n",
        "ᚪᛁᛈ-ᚦᚹ-ᛗᚳᛁᛞᚹᚾᚣᛗ-ᚹᛗᛞᛖ-ᚹᛈᚾᛗᚷᚣᛏᛠᛈᛖᚪ.\n",
        "\"\"\""
      ],
      "execution_count": null,
      "outputs": []
    },
    {
      "cell_type": "code",
      "metadata": {
        "id": "9Ox_chpf_9AK"
      },
      "source": [
        "key = LiberPrimus.runes_to_number_list(\"ᚠᛁᚱᚠᚢᛗᚠᛖᚱᛖᚾᚠᛖ\") # FIRFUMFERENFE\n",
        "interrupters = {49,56}"
      ],
      "execution_count": null,
      "outputs": []
    },
    {
      "cell_type": "code",
      "metadata": {
        "id": "gX9qR3jV_9AP",
        "colab": {
          "base_uri": "https://localhost:8080/"
        },
        "outputId": "dd64cfd9-2347-4eed-c739-6ab0d7fc5e10"
      },
      "source": [
        "nums       = LiberPrimus.runes_to_number_list(cipher_text)  \n",
        "deciphered = map(LiberPrimus.decipher_scheduled_key(key, interrupters), nums)                          \n",
        "print(\"\".join(list(map(LiberPrimus.number_to_latin, deciphered)))) "
      ],
      "execution_count": null,
      "outputs": [
        {
          "output_type": "stream",
          "text": [
            "\n",
            "A KOAN.\n",
            "DURING A LESSON, THE MASTER EXPLAINED THE I.\n",
            "\"THE I IS THE UOIKE OF THE KIRKULEAERENKE,\" HE SAID.\n",
            "WHEN ASKED BY A STUDENT TO EXPLAIN WHAT THAT MEANT, THE MASTER SAID IT IS A UOIKE INSIDE YOUR HEAD.\n",
            "\"I DON'T HAUE A UOIKE IN MY HEAD,\" THOUGHT THE STUDENT, AND HE RAISED HIS HAND TO TELL THE MASTER.\n",
            "THE MASTER STOPPED THE STUDENT, AND SAID \"THE UOIKE THAT JUST SAID YOU HAUE NO UOIKE IN YOUR HEAD IS THE I.\"\n",
            "AND THE STUDENTS WERE ENLIGHTENED.\n",
            "\n"
          ],
          "name": "stdout"
        }
      ]
    },
    {
      "cell_type": "markdown",
      "metadata": {
        "id": "g3mwGOQK_9AR"
      },
      "source": [
        "## Section Seven - An Instruction"
      ]
    },
    {
      "cell_type": "code",
      "metadata": {
        "id": "jxCILm5P_9AR"
      },
      "source": [
        "cipher_text = \"\"\"\n",
        "ᚪᚾ-ᛁᚾᛋᛏᚱᚢᚳᛏᛡᚾ.\n",
        "ᚳᚹᛖᛋᛏᛡᚾ-ᚪᛚᛚ-ᚦᛝᛋ.\n",
        "ᛞᛁᛋᚳᚩᚢᛖᚱ-ᛏᚱᚢᚦ-ᛁᚾᛋᛁᛞᛖ-ᚣᚩᚢᚱᛋᛖᛚᚠ.\n",
        "ᚠᚩᛚᛚᚩᚹ-ᚣᚩᚢᚱ-ᛏᚱᚢᚦ.\n",
        "ᛁᛗᛈᚩᛋᛖ-ᚾᚩᚦᛝ-ᚩᚾ-ᚩᚦᛖᚱᛋ.\n",
        "\n",
        "ᚳᚾᚩᚹ-ᚦᛁᛋ.\n",
        "434-1311-312-278-966\n",
        "204-812-934-280-1071\n",
        "626-620-809-620-626\n",
        "1071-280-934-812-204\n",
        "966-278-312-1311-434\n",
        "\"\"\""
      ],
      "execution_count": null,
      "outputs": []
    },
    {
      "cell_type": "code",
      "metadata": {
        "id": "qzwk0_jw_9AT",
        "colab": {
          "base_uri": "https://localhost:8080/"
        },
        "outputId": "42dc3367-5fdc-4b08-cc0e-7578d6fae1ad"
      },
      "source": [
        "nums = LiberPrimus.runes_to_number_list(cipher_text)               \n",
        "print(\"\".join(list(map(LiberPrimus.number_to_latin, nums)))) "
      ],
      "execution_count": null,
      "outputs": [
        {
          "output_type": "stream",
          "text": [
            "\n",
            "AN INSTRUKTIAN.\n",
            "KWESTIAN ALL THINGS.\n",
            "DISKOUER TRUTH INSIDE YOURSELF.\n",
            "FOLLOW YOUR TRUTH.\n",
            "IMPOSE NOTHING ON OTHERS.\n",
            "\n",
            "KNOW THIS.\n",
            "434 1311 312 278 966\n",
            "204 812 934 280 1071\n",
            "626 620 809 620 626\n",
            "1071 280 934 812 204\n",
            "966 278 312 1311 434\n",
            "\n"
          ],
          "name": "stdout"
        }
      ]
    },
    {
      "cell_type": "markdown",
      "metadata": {
        "id": "kr3JI02qTzvH"
      },
      "source": [
        "## Section Twelve\n"
      ]
    },
    {
      "cell_type": "code",
      "metadata": {
        "id": "-3Trt_JMQ1oU"
      },
      "source": [
        "cipher_text = \"\"\"\n",
        "ᛉᛁᛉᛗ-ᚢᛉᛗᚳᚦᛈᚩᛒ-ᛡᚾᛏ-ᛠᛉ-ᛈᚱᚣ-ᚩᚳᛠᛗᛝᚷᛉᛚᚢ-ᛝᛁᛏᚩ-ᛄᚠᛝ-ᛋᛚᚾᛞ.\n",
        "ᚩᛗ-ᛇᚫ-ᚱᛞᚹᛏᛄᚦ-ᚣᚦᛋ-ᚫᚣᛖᛋᛉᛟᛒ-ᛠᚱᛇ-ᛈᛝᚢᛈ-ᚩᚦᛉ-ᚪᚻᛟᚱᛝᚢᛖᚱ-ᚣᛚᛉᛚ-ᛡᛚᚱ-ᛈᚹᛇᚾ-ᛠᚪᚱᛉᛝ-ᚣᛋᚻᚢᛚ-ᛋᚣ-ᚷᚾᚢ-ᛇᚫᚾᚾ-ᚩᚫᛖᛞ-ᚪᚩᛄᛡᚢᚪᛉ-ᚱᛉᛡᛟᛄ-ᛗᛁᛇᛚᛠᚻᚦᛗᛠᚣ.\n",
        "ᚷᛒᚳᛈᛉᚳ-ᚾᛟᛟᛋᚷᛗᛈᛖᛏᛚᚾᛄ-ᛄᚳᛝᚩ-ᛁᚹᛚᛠᛒ-ᚠᚪᛖ-ᛏᛝ-ᚾᛈᛠᚩᛏᚦ-ᚻᛝᛉᛈᚻᛈᚳᛈᚱᚢ-ᛚᚠᛖᛟ-ᚷᚪᛒᚠᛁᚫᚠᚢᛟ-ᛗᚠᚣᛝᛄᚳ-ᚻᛏᚠᛚᚫ-ᛖᚦᛋᛚᚩᚢ-ᚫᚩᚪᛗᛟᚢᚹᛇ.\n",
        "ᛒᚾᛋᛚᛝᛄᛟᚾ-ᛗᛚᛒ-ᛟᛏ-ᚾᛞᛒᚩᚾᚦᛡᚻᛟ-ᚱᛈᚾᚠᛈᛞ-ᛋᚩᛁᛠᚣᚾ-ᛇᚣᚹᚫᚷᛄ-ᛝᛗᚪᚹᛈ-ᚪᚢᚾ-ᛈᛡᛗᛖᛞᛟ.\n",
        "ᛁ-ᛉᛡᛗ-ᚠᛈᚩ-ᚦᛉᛞ-ᚩᛞ-ᛋᛈᛉᛡᚷ-ᛟᚻᚠᚦᛉᛄᛟᛋᚦᚣᚦ-ᛏᚻᛋᚣ-ᚻᛠᚷᛚᚫᚱᛏ-ᚢᛋᛟ-ᚦᚠᚠᚣᛟᛡ-ᛇᚳᚣᛒᛚᛝ-ᛠᚱᚻᛞ-ᛄᚣᛏᚫ-ᚻᛞᚳᛋ-ᛉᚠᛞ-ᚦᛗ-ᚳᛇᛝ-ᚫᚾᛡᛠᚹᛁᛡ-ᛒᛗᛝ-ᚷᛈᛁᚳ-ᛠᛚᚷᛉᚣᚣᚱᛄ-ᛉᛁᛄᚢ-ᛖᚣ-ᚪᛝᛈ-ᛡᚫᚳ-ᛖᛠᚹᛒᚦᛟᚠᛗ-ᚫᚱᚠᚩᛏ-ᛝᛉᛞ-ᛗᛖᛡ-ᚩᛈᛋ-ᛇᛞ-ᛇᛟᚫᚾ-ᚷᛗᚣᛁᚫᛁᛄ-ᛈᛄᚩᛡᚷ-ᛈᚳᛄ-ᛚᛖᛡᚻᛚᚷᚱᛇ-ᛟᚣ-ᛠᚣᛗᚹᚾᚹ-ᚠᛁᛄᚢᛗᚫᚾᚳᛗᛠᛁ.\n",
        "ᚩᛇ-ᛒᛚᛞ-ᚾᚹᚠᚾᛒᚱ-ᛋᛟᚦᛡ-ᚪᛡᛏᚷᚷᚹ-ᚪᛋᛡᚦᛋᚦᛋᚠᛗᚷᛞᛠ-ᛝᛈᚩᚪᚣᛝᛈᛋ-ᛟᚾᛇᚪᛖ-ᚻᚢᚷ-ᚩ-ᚢᚦᛏ-ᛒᚷᚣᛝᚠᚣᛁᚻ-ᚹᛡᛠᚱᚫᚹᛡᛞᚪᚦᚳ-ᛉᚢ-ᛈᛏᛋᚢᛖ-ᚷᚦᛡᛚ-ᛖᛋᛠᛝᛉᛈᛉ-ᚾᛟ-ᛞᛟᛒ-ᚾᚹᚢᛁᛇᛚᛞ-ᛁ-ᚦᚣᚷ-ᛟᛈᛡ-ᛖᚪ.\n",
        "ᚠᛋᛉᛞ-ᛖᚷᚦᛠ-ᚾᛋ-ᛞᛟᛗᛖ-ᛗᚾᛉ-ᚹᛒᛠᛈᛟ-ᛗᛉᚫ-ᛄᚩᛞᚻᛡᚷᚠ-ᚣᛗ-ᛁᚷᛉᚻᚹ-ᚾ-ᛋᛗᚷᛠ-ᚣᛚᚱᛄᛗᛉᚣ-ᛇᚱᚢᛟ-ᚣᚦᚢᛟᚩ-ᚱᚢᚹ-ᛁᛒᚳ.\n",
        "ᛠᛏᛞ-ᛚᛖᛋᛄ-ᚳᛟ-ᚷᛞᛡ-ᚢᚹᛝᚻᚫᚢᛈ-ᛏᛈᚩᚣ-ᚾᛇᚦᛟᛏᛇᚳᚠ-ᛒᚪᚾ-ᛗᚦᛝ-ᛟᛠᚢᛁᚪ-ᚾᚻᛝᛉᚩ-ᛇᛁᛡᚠᛟᛒᚦᚠ-ᛋᛒ-ᚠᛞᛇ-ᚩᚦᛏ-7-ᚷ-ᛚᛄᛖᚫ.\n",
        "ᚣᛁᚫᚹᚻ-ᚫᛏ.\n",
        "ᛁᛉ-ᛉᚻᛞᚩᛠ-ᚫᛋᛝᛚᛝ-ᛖᚩᚻᛗᚩᛟᛒᚦ-ᚱᛚᛋ-ᚳᚻ-ᚪᛡᚾᛇᚱᛉᚦ-ᚣᛉᚻ-ᛡᚾᚢ-ᛗᛉᚹ-ᛖᛈᛖ-ᚩᚳᛈᚳᛞᚪᛉᚢᛗᛝᛟ-ᛋᚾᛟᛉ-ᚠᚱᚳᛒᚢᛄᚱᚫᛝ-ᛒᛋᛟᛠᛡᚪᛚ-ᛏᛟᚾᚫᛟᚪ-ᛁ-ᛡᛋᚳᛖ-ᚹᛒ.\n",
        "ᚾᛚᛝ-ᚦᚾᛁᛠ-ᛒᛡᚱᚠᛖᛁᚹ-ᚾᚠᛗᚢᚷᚾ-ᛄᛚᚳᚱ.\n",
        "ᛝᚣᛉᛋᚪᛟᚱᛉᚳ-ᛒᚫ-ᚠᚢᚪᛖᚪᚹ-ᛚᚾ-ᛄᛉ-ᚻᚦᛉ-ᛗᛚᚾᛖ-ᛏᛝᚦᚪᚩᚢᛗᚣ-ᚠᛝᚪ-ᚻᛡᛇᛡ-ᛚᛏᛁ-ᛇᛁ-ᚳᚢᚢᛖ-ᚳᛒ-ᚫᛇᚠᚦᚳᛚᚩᛉᛚᚩᛚ-ᚠᚳᛠ-ᚪᚠᛟᚫᚠ-ᚾᚳ-ᚢᛒᚱ-ᚾᛇᚩᛉ-ᛁᚳᛟ-ᛞᛉᛠᛝᚠᚱᛡᚳᛇ-ᛉᛟᛈᛗᛞᚳᚦᚹᛈ.\n",
        "ᛡᚻ-ᚾᚦᛇᛏᚹᛖᚢ-ᚫᛇᚦ-ᛝᛟᛏᚳᚷᛒᛠ-ᚪᚳᛒᚪᚩᚹᚫ-ᛉᚢ-ᚫᛖᛒ.\n",
        "ᛇᛏᚢᚩ-ᛟᛞᚠᚢᛋ.ᛡᛄᛗᚦᛠᛏᚪ-ᛒᚹᚣ-ᛏᛄᚻᚦᚫ-ᛚᚪᚱᚫᛟᚦᚩᚾᛟᛁᛖ-ᛡᚠᚷ-ᛋᚠᚦᛏ-ᛠᛡᛠᛁᚢᛡᛇᛝᛞ-ᛉᛏᚠᛒᚻᚢᛋᚳᚱᛇᚹ-ᛇᛈᛋᚢᛚᚪᛈᚢᚳᛖᚠᛞᛉ-ᚦᛠᛇᛝᚻ-ᚣᚱᛗ-ᛟᚾᛚ-ᛈᚹᛞᚱᛄ-ᚪᛝᛞ-ᛁᚦᛏᚷᚢᚹᚳᚻᛖᚩᚪᛖ-ᛉᚪᚢ-ᚳᛁ-ᚱᚳᚹ-ᛠᛇᛏ-ᚦᚳᚻᚢ.ᛡᚹᛟ-ᚷᛇᛈ-ᚢᛈᚦ-ᚷᚣᚢᚪᛗ-ᚹᚳᛖᛝᚱᛠᛞᛏᚻ-ᛄᛁᛈᚻᚠᛉᛝᛈᚾ-ᛒᚳᚪᚷᛋᛟ-ᛉᛠᛈᚪᚩᚷᚠᚳᛡᛄ-ᛠᚢᚠᛋᛚ-ᚣᛚ-ᚢᛒ-ᛉ.\n",
        "ᚱᚣᚾ-ᛁᛠ-ᛚᚹᛋ-ᚠᚦᚪᛠ-ᛈᚷ.\n",
        "ᛏᚷᛡᛟᛠᛡᛒ-ᛉᛄᛒ-ᛖᚾ-ᛞᚠᛠᛗ-ᚦᚪᛗᚠᚪ.\n",
        "ᚻᛡ-ᛗᛁᛏᛟ-ᚻᚣᚹᛏ-ᚠᛒᛁ-ᚫᛖ-ᛝᛒ-ᛚᛏᛠᛉ-ᛟᛋᚾᛉ-ᚹᛏᛠᛏ-ᛖᚢᛡᛖ-ᛉᚾᛇ-ᛟᚳᚾᚠᚩᚾᚠ-ᚳᚪ-ᚷᚱᚩ-ᛠᚦᚹᚣ-ᛒᛁ-ᛝᛇᛟ-ᚣ-ᚷᛗᚩ-ᛁᚷᛄ-ᚩᛇ-ᚢᛁᛉᛝᚪᚱᛉ-ᛏᛄᛞᛈ-ᚾᛝᚷᛏᚢ-ᛚᚷᚳᛏ-ᚢᛒᛇ-ᛈᚩᚣᚢᛏ-ᛡᚫᛏᚹᛏᛇ-ᛡᚫᚫ-ᚦᛏᛝ.\n",
        "ᛠᚳᛁᛉᚻᚦᚣ-ᚻᛚᚾᛋᚱᛡᚫᛚᚫ-ᛖᚷᚻ-ᛞᚾᚻᛠ-ᚠᚪᚹᛖᚠᛄ-ᛒᛇᚱᚹᛏᛉᚾᛠᛖᛁ-ᚠᚾᛡᚳ.\n",
        "ᛋᛟᚹ-ᛈᚷᛝᛟ-ᚷᚦᚠᛄᚷᚳ-ᛒᛁᛗᛚᛇᛠᚹ-ᚾᚫᚹᚷ.ᚩᚻᚪᛏᚾᛄ-ᚣᛝᛏᛡᛝ-ᚢ-ᚩᚠᚣ-ᛗᚢᛒ-ᛏᚠᛈ.\n",
        "ᚱᚩ-ᛉᚩᛝᛒ-ᛖᛏᚩᛉ-ᚣᛗᚠᛉ-ᛖᚩᚫᚷᚣᛚ-ᚩᛇ-ᚠᛋᚫᛇᛗ-ᛡᛟᚹᚾᚩᚢᚹᛖᛁ-ᚾᚦᚫᛠᚪ-ᛠᛚ-ᚹ-ᛡᚩ-ᚢᚦᛗ-ᛝᛚᚪᚠᛝ-ᛚᚠᛚᚳᛒᚢᛝᛉ-ᚣᛡᚪᚷ-ᚹᛟᚪᚻᚹᚢ-ᛖᛠᚷ-ᛁᚪᛏᛄᛗ-ᛏᛖᛁ-ᚣᛡ-ᚦᚾᚠᚦ-ᚩᛈᚻᚪ-ᚻᛋᛠ-ᛡᛉᚪᚫ-ᚠᚣᛞᛠᛇᚠᚫ-ᛏᛗ-ᚳᛡᚷ-ᚱᚢᛞ-ᛄ-ᛋᛡᛇᚩ-ᛚᛟ-ᚦᚱᚫᛒᛚᚦ-ᛖᚪᚦᛗᛚ-ᚦᛉᚪᚱ-ᛟᛖᛒᛄᚱᛄᛖᛁᛈ-ᚪᛖᛠᚠᛄᚢ-ᛞᚹᚦᚣ-ᛉᚷᚩᚳᛡ-ᛇᛗᛞᚳᛏ-ᚻᛚᚦᛝᛖᛗᚱ-ᛒᚷᛞᛉᛗᛒᛉᚳᛝᚦᚣᛞᚫᛠ-ᛋᛏᛗᛏᚻᚹ-ᛇᚳᚪᛞ-ᛠᚢᛒᛉ-ᛡᛁᛡᛚ-ᚷᛋᚦᛞ-ᚠᚢᚩᛠ-ᛚᛋᚣᛏ-ᛋᚪᛞᚫᚹᛄᛞ-ᛋᛈᛋᛄ-ᚪᛖᛁᛇᛒᛟ-ᛏᛄ-ᚠᚩᛚᛞ-ᚾᚷᚳ-ᛚᚷᛗ-ᛠᚦᚢ-ᛟᚻᚾᛟᚣᛡ.\n",
        "ᛇᚻᚣᚪᛈ-ᚾᛋ.\n",
        "ᛞᚫᛠᚳᛉᛄ-ᚦᚹᛋᚱᚦᚫᚾ-ᛡᛚᚣᚫᛋᛖ-ᛟᚣᛝᛡ-ᚦᚣᚷᛇᚱ-ᛋᛠᛏ-ᛡᚳᛉ-ᛠᚷ-ᚳᛒᛋ-ᚹᚾᚻᛖᛝᛋ-ᚩᛡᛗᛉᛝ-ᛉᚦ-ᛠᛞᚳᛒᚷᛉᚹᛝᚢ-ᛉᛞᛈ.\n",
        "ᛉᛡᛈᛟ-ᚾᛡᚠᛡᚢᛋ-ᛉᚪᛖᚻᚱᚣᛠᛇ-ᛒᛟ-ᚪᛝᛡ-ᚳᚱᚳᛈᚩᛏ-ᚻᚣᚫᛁᛋᚩᚦᛚ-ᛟᛚ-ᛋᚪᚢᚪᛈᚻ.\n",
        "\"\"\""
      ],
      "execution_count": null,
      "outputs": []
    },
    {
      "cell_type": "code",
      "metadata": {
        "id": "HXhacfxTWG57",
        "colab": {
          "base_uri": "https://localhost:8080/"
        },
        "outputId": "fc4bafa3-8d96-4384-8248-52c015c6ef4c"
      },
      "source": [
        "# 173 x 10\n",
        "small_blocks = \"\"\"\n",
        "ᛉᛁᛉᛗᚢᛉᛗᚳᚦᛈᚩᛒᛡᚾᛏᛠᛉᛈᚱᚣᚩᚳᛠᛗᛝᚷᛉᛚᚢᛝᛁᛏᚩᛄᚠᛝᛋᛚᚾᛞᚩᛗᛇᚫᚱᛞᚹᛏᛄᚦᚣᚦᛋᚫᚣᛖᛋᛉᛟᛒᛠᚱᛇᛈᛝᚢᛈᚩᚦᛉᚪᚻᛟᚱᛝᚢᛖᚱᚣᛚᛉᛚᛡᛚᚱᛈᚹᛇᚾᛠᚪᚱᛉᛝᚣᛋᚻᚢᛚᛋᚣᚷᚾᚢᛇᚫᚾᚾᚩᚫᛖᛞᚪᚩᛄᛡᚢᚪᛉᚱᛉᛡᛟᛄᛗᛁᛇᛚᛠᚻᚦᛗᛠᚣᚷᛒᚳᛈᛉᚳᚾᛟᛟᛋᚷᛗᛈᛖᛏᛚᚾᛄᛄᚳᛝᚩᛁᚹᛚᛠᛒᚠᚪᛖᛏᛝᚾᛈᛠᚩᛏᚦᚻ\n",
        "ᛝᛉᛈᚻᛈᚳᛈᚱᚢᛚᚠᛖᛟᚷᚪᛒᚠᛁᚫᚠᚢᛟᛗᚠᚣᛝᛄᚳᚻᛏᚠᛚᚫᛖᚦᛋᛚᚩᚢᚫᚩᚪᛗᛟᚢᚹᛇᛒᚾᛋᛚᛝᛄᛟᚾᛗᛚᛒᛟᛏᚾᛞᛒᚩᚾᚦᛡᚻᛟᚱᛈᚾᚠᛈᛞᛋᚩᛁᛠᚣᚾᛇᚣᚹᚫᚷᛄᛝᛗᚪᚹᛈᚪᚢᚾᛈᛡᛗᛖᛞᛟᛁᛉᛡᛗᚠᛈᚩᚦᛉᛞᚩᛞᛋᛈᛉᛡᚷᛟᚻᚠᚦᛉᛄᛟᛋᚦᚣᚦᛏᚻᛋᚣᚻᛠᚷᛚᚫᚱᛏᚢᛋᛟᚦᚠᚠᚣᛟᛡᛇᚳᚣᛒᛚᛝᛠᚱᚻᛞᛄᚣᛏᚫᚻᛞᚳᛋᛉᚠᛞᚦᛗᚳ\n",
        "ᛇᛝᚫᚾᛡᛠᚹᛁᛡᛒᛗᛝᚷᛈᛁᚳᛠᛚᚷᛉᚣᚣᚱᛄᛉᛁᛄᚢᛖᚣᚪᛝᛈᛡᚫᚳᛖᛠᚹᛒᚦᛟᚠᛗᚫᚱᚠᚩᛏᛝᛉᛞᛗᛖᛡᚩᛈᛋᛇᛞᛇᛟᚫᚾᚷᛗᚣᛁᚫᛁᛄᛈᛄᚩᛡᚷᛈᚳᛄᛚᛖᛡᚻᛚᚷᚱᛇᛟᚣᛠᚣᛗᚹᚾᚹᚠᛁᛄᚢᛗᚫᚾᚳᛗᛠᛁᚩᛇᛒᛚᛞᚾᚹᚠᚾᛒᚱᛋᛟᚦᛡᚪᛡᛏᚷᚷᚹᚪᛋᛡᚦᛋᚦᛋᚠᛗᚷᛞᛠᛝᛈᚩᚪᚣᛝᛈᛋᛟᚾᛇᚪᛖᚻᚢᚷᚩᚢᚦᛏᛒᚷᚣᛝᚠᚣᛁᚻᚹᛡᛠᚱᚫᚹ\n",
        "ᛡᛞᚪᚦᚳᛉᚢᛈᛏᛋᚢᛖᚷᚦᛡᛚᛖᛋᛠᛝᛉᛈᛉᚾᛟᛞᛟᛒᚾᚹᚢᛁᛇᛚᛞᛁᚦᚣᚷᛟᛈᛡᛖᚪᚠᛋᛉᛞᛖᚷᚦᛠᚾᛋᛞᛟᛗᛖᛗᚾᛉᚹᛒᛠᛈᛟᛗᛉᚫᛄᚩᛞᚻᛡᚷᚠᚣᛗᛁᚷᛉᚻᚹᚾᛋᛗᚷᛠᚣᛚᚱᛄᛗᛉᚣᛇᚱᚢᛟᚣᚦᚢᛟᚩᚱᚢᚹᛁᛒᚳᛠᛏᛞᛚᛖᛋᛄᚳᛟᚷᛞᛡᚢᚹᛝᚻᚫᚢᛈᛏᛈᚩᚣᚾᛇᚦᛟᛏᛇᚳᚠᛒᚪᚾᛗᚦᛝᛟᛠᚢᛁᚪᚾᚻᛝᛉᚩᛇᛁᛡᚠᛟᛒᚦᚠᛋᛒᚠᛞᛇᚩᚦᛏ\n",
        "7ᚷᛚᛄᛖᚫᚣᛁᚫᚹᚻᚫᛏᛁᛉᛉᚻᛞᚩᛠᚫᛋᛝᛚᛝᛖᚩᚻᛗᚩᛟᛒᚦᚱᛚᛋᚳᚻᚪᛡᚾᛇᚱᛉᚦᚣᛉᚻᛡᚾᚢᛗᛉᚹᛖᛈᛖᚩᚳᛈᚳᛞᚪᛉᚢᛗᛝᛟᛋᚾᛟᛉᚠᚱᚳᛒᚢᛄᚱᚫᛝᛒᛋᛟᛠᛡᚪᛚᛏᛟᚾᚫᛟᚪᛁᛡᛋᚳᛖᚹᛒᚾᛚᛝᚦᚾᛁᛠᛒᛡᚱᚠᛖᛁᚹᚾᚠᛗᚢᚷᚾᛄᛚᚳᚱᛝᚣᛉᛋᚪᛟᚱᛉᚳᛒᚫᚠᚢᚪᛖᚪᚹᛚᚾᛄᛉᚻᚦᛉᛗᛚᚾᛖᛏᛝᚦᚪᚩᚢᛗᚣᚠᛝᚪᚻᛡᛇᛡᛚᛏᛁᛇᛁ\n",
        "ᚳᚢᚢᛖᚳᛒᚫᛇᚠᚦᚳᛚᚩᛉᛚᚩᛚᚠᚳᛠᚪᚠᛟᚫᚠᚾᚳᚢᛒᚱᚾᛇᚩᛉᛁᚳᛟᛞᛉᛠᛝᚠᚱᛡᚳᛇᛉᛟᛈᛗᛞᚳᚦᚹᛈᛡᚻᚾᚦᛇᛏᚹᛖᚢᚫᛇᚦᛝᛟᛏᚳᚷᛒᛠᚪᚳᛒᚪᚩᚹᚫᛉᚢᚫᛖᛒᛇᛏᚢᚩᛟᛞᚠᚢᛋᛡᛄᛗᚦᛠᛏᚪᛒᚹᚣᛏᛄᚻᚦᚫᛚᚪᚱᚫᛟᚦᚩᚾᛟᛁᛖᛡᚠᚷᛋᚠᚦᛏᛠᛡᛠᛁᚢᛡᛇᛝᛞᛉᛏᚠᛒᚻᚢᛋᚳᚱᛇᚹᛇᛈᛋᚢᛚᚪᛈᚢᚳᛖᚠᛞᛉᚦᛠᛇᛝᚻᚣᚱᛗᛟᚾᛚᛈ\n",
        "ᚹᛞᚱᛄᚪᛝᛞᛁᚦᛏᚷᚢᚹᚳᚻᛖᚩᚪᛖᛉᚪᚢᚳᛁᚱᚳᚹᛠᛇᛏᚦᚳᚻᚢᛡᚹᛟᚷᛇᛈᚢᛈᚦᚷᚣᚢᚪᛗᚹᚳᛖᛝᚱᛠᛞᛏᚻᛄᛁᛈᚻᚠᛉᛝᛈᚾᛒᚳᚪᚷᛋᛟᛉᛠᛈᚪᚩᚷᚠᚳᛡᛄᛠᚢᚠᛋᛚᚣᛚᚢᛒᛉᚱᚣᚾᛁᛠᛚᚹᛋᚠᚦᚪᛠᛈᚷᛏᚷᛡᛟᛠᛡᛒᛉᛄᛒᛖᚾᛞᚠᛠᛗᚦᚪᛗᚠᚪᚻᛡᛗᛁᛏᛟᚻᚣᚹᛏᚠᛒᛁᚫᛖᛝᛒᛚᛏᛠᛉᛟᛋᚾᛉᚹᛏᛠᛏᛖᚢᛡᛖᛉᚾᛇᛟᚳᚾᚠᚩᚾᚠᚳᚪᚷ\n",
        "ᚱᚩᛠᚦᚹᚣᛒᛁᛝᛇᛟᚣᚷᛗᚩᛁᚷᛄᚩᛇᚢᛁᛉᛝᚪᚱᛉᛏᛄᛞᛈᚾᛝᚷᛏᚢᛚᚷᚳᛏᚢᛒᛇᛈᚩᚣᚢᛏᛡᚫᛏᚹᛏᛇᛡᚫᚫᚦᛏᛝᛠᚳᛁᛉᚻᚦᚣᚻᛚᚾᛋᚱᛡᚫᛚᚫᛖᚷᚻᛞᚾᚻᛠᚠᚪᚹᛖᚠᛄᛒᛇᚱᚹᛏᛉᚾᛠᛖᛁᚠᚾᛡᚳᛋᛟᚹᛈᚷᛝᛟᚷᚦᚠᛄᚷᚳᛒᛁᛗᛚᛇᛠᚹᚾᚫᚹᚷᚩᚻᚪᛏᚾᛄᚣᛝᛏᛡᛝᚢᚩᚠᚣᛗᚢᛒᛏᚠᛈᚱᚩᛉᚩᛝᛒᛖᛏᚩᛉᚣᛗᚠᛉᛖᚩᚫᚷᚣᛚᚩᛇᚠᛋᚫ\n",
        "ᛇᛗᛡᛟᚹᚾᚩᚢᚹᛖᛁᚾᚦᚫᛠᚪᛠᛚᚹᛡᚩᚢᚦᛗᛝᛚᚪᚠᛝᛚᚠᛚᚳᛒᚢᛝᛉᚣᛡᚪᚷᚹᛟᚪᚻᚹᚢᛖᛠᚷᛁᚪᛏᛄᛗᛏᛖᛁᚣᛡᚦᚾᚠᚦᚩᛈᚻᚪᚻᛋᛠᛡᛉᚪᚫᚠᚣᛞᛠᛇᚠᚫᛏᛗᚳᛡᚷᚱᚢᛞᛄᛋᛡᛇᚩᛚᛟᚦᚱᚫᛒᛚᚦᛖᚪᚦᛗᛚᚦᛉᚪᚱᛟᛖᛒᛄᚱᛄᛖᛁᛈᚪᛖᛠᚠᛄᚢᛞᚹᚦᚣᛉᚷᚩᚳᛡᛇᛗᛞᚳᛏᚻᛚᚦᛝᛖᛗᚱᛒᚷᛞᛉᛗᛒᛉᚳᛝᚦᚣᛞᚫᛠᛋᛏᛗᛏᚻᚹᛇᚳᚪᛞᛠ\n",
        "ᚢᛒᛉᛡᛁᛡᛚᚷᛋᚦᛞᚠᚢᚩᛠᛚᛋᚣᛏᛋᚪᛞᚫᚹᛄᛞᛋᛈᛋᛄᚪᛖᛁᛇᛒᛟᛏᛄᚠᚩᛚᛞᚾᚷᚳᛚᚷᛗᛠᚦᚢᛟᚻᚾᛟᚣᛡᛇᚻᚣᚪᛈᚾᛋᛞᚫᛠᚳᛉᛄᚦᚹᛋᚱᚦᚫᚾᛡᛚᚣᚫᛋᛖᛟᚣᛝᛡᚦᚣᚷᛇᚱᛋᛠᛏᛡᚳᛉᛠᚷᚳᛒᛋᚹᚾᚻᛖᛝᛋᚩᛡᛗᛉᛝᛉᚦᛠᛞᚳᛒᚷᛉᚹᛝᚢᛉᛞᛈᛉᛡᛈᛟᚾᛡᚠᛡᚢᛋᛉᚪᛖᚻᚱᚣᛠᛇᛒᛟᚪᛝᛡᚳᚱᚳᛈᚩᛏᚻᚣᚫᛁᛋᚩᚦᛚᛟᛚᛋᚪᚢᚪᛈᚻ\n",
        "\"\"\"\n",
        "\n",
        "# 346 x 5\n",
        "large_blocks = \"\"\"\n",
        "ᛉᛁᛉᛗᚢᛉᛗᚳᚦᛈᚩᛒᛡᚾᛏᛠᛉᛈᚱᚣᚩᚳᛠᛗᛝᚷᛉᛚᚢᛝᛁᛏᚩᛄᚠᛝᛋᛚᚾᛞᚩᛗᛇᚫᚱᛞᚹᛏᛄᚦᚣᚦᛋᚫᚣᛖᛋᛉᛟᛒᛠᚱᛇᛈᛝᚢᛈᚩᚦᛉᚪᚻᛟᚱᛝᚢᛖᚱᚣᛚᛉᛚᛡᛚᚱᛈᚹᛇᚾᛠᚪᚱᛉᛝᚣᛋᚻᚢᛚᛋᚣᚷᚾᚢᛇᚫᚾᚾᚩᚫᛖᛞᚪᚩᛄᛡᚢᚪᛉᚱᛉᛡᛟᛄᛗᛁᛇᛚᛠᚻᚦᛗᛠᚣᚷᛒᚳᛈᛉᚳᚾᛟᛟᛋᚷᛗᛈᛖᛏᛚᚾᛄᛄᚳᛝᚩᛁᚹᛚᛠᛒᚠᚪᛖᛏᛝᚾᛈᛠᚩᛏᚦᚻᛝᛉᛈᚻᛈᚳᛈᚱᚢᛚᚠᛖᛟᚷᚪᛒᚠᛁᚫᚠᚢᛟᛗᚠᚣᛝᛄᚳᚻᛏᚠᛚᚫᛖᚦᛋᛚᚩᚢᚫᚩᚪᛗᛟᚢᚹᛇᛒᚾᛋᛚᛝᛄᛟᚾᛗᛚᛒᛟᛏᚾᛞᛒᚩᚾᚦᛡᚻᛟᚱᛈᚾᚠᛈᛞᛋᚩᛁᛠᚣᚾᛇᚣᚹᚫᚷᛄᛝᛗᚪᚹᛈᚪᚢᚾᛈᛡᛗᛖᛞᛟᛁᛉᛡᛗᚠᛈᚩᚦᛉᛞᚩᛞᛋᛈᛉᛡᚷᛟᚻᚠᚦᛉᛄᛟᛋᚦᚣᚦᛏᚻᛋᚣᚻᛠᚷᛚᚫᚱᛏᚢᛋᛟᚦᚠᚠᚣᛟᛡᛇᚳᚣᛒᛚᛝᛠᚱᚻᛞᛄᚣᛏᚫᚻᛞᚳᛋᛉᚠᛞᚦᛗᚳ\n",
        "ᛇᛝᚫᚾᛡᛠᚹᛁᛡᛒᛗᛝᚷᛈᛁᚳᛠᛚᚷᛉᚣᚣᚱᛄᛉᛁᛄᚢᛖᚣᚪᛝᛈᛡᚫᚳᛖᛠᚹᛒᚦᛟᚠᛗᚫᚱᚠᚩᛏᛝᛉᛞᛗᛖᛡᚩᛈᛋᛇᛞᛇᛟᚫᚾᚷᛗᚣᛁᚫᛁᛄᛈᛄᚩᛡᚷᛈᚳᛄᛚᛖᛡᚻᛚᚷᚱᛇᛟᚣᛠᚣᛗᚹᚾᚹᚠᛁᛄᚢᛗᚫᚾᚳᛗᛠᛁᚩᛇᛒᛚᛞᚾᚹᚠᚾᛒᚱᛋᛟᚦᛡᚪᛡᛏᚷᚷᚹᚪᛋᛡᚦᛋᚦᛋᚠᛗᚷᛞᛠᛝᛈᚩᚪᚣᛝᛈᛋᛟᚾᛇᚪᛖᚻᚢᚷᚩᚢᚦᛏᛒᚷᚣᛝᚠᚣᛁᚻᚹᛡᛠᚱᚫᚹᛡᛞᚪᚦᚳᛉᚢᛈᛏᛋᚢᛖᚷᚦᛡᛚᛖᛋᛠᛝᛉᛈᛉᚾᛟᛞᛟᛒᚾᚹᚢᛁᛇᛚᛞᛁᚦᚣᚷᛟᛈᛡᛖᚪᚠᛋᛉᛞᛖᚷᚦᛠᚾᛋᛞᛟᛗᛖᛗᚾᛉᚹᛒᛠᛈᛟᛗᛉᚫᛄᚩᛞᚻᛡᚷᚠᚣᛗᛁᚷᛉᚻᚹᚾᛋᛗᚷᛠᚣᛚᚱᛄᛗᛉᚣᛇᚱᚢᛟᚣᚦᚢᛟᚩᚱᚢᚹᛁᛒᚳᛠᛏᛞᛚᛖᛋᛄᚳᛟᚷᛞᛡᚢᚹᛝᚻᚫᚢᛈᛏᛈᚩᚣᚾᛇᚦᛟᛏᛇᚳᚠᛒᚪᚾᛗᚦᛝᛟᛠᚢᛁᚪᚾᚻᛝᛉᚩᛇᛁᛡᚠᛟᛒᚦᚠᛋᛒᚠᛞᛇᚩᚦᛏ\n",
        "7ᚷᛚᛄᛖᚫᚣᛁᚫᚹᚻᚫᛏᛁᛉᛉᚻᛞᚩᛠᚫᛋᛝᛚᛝᛖᚩᚻᛗᚩᛟᛒᚦᚱᛚᛋᚳᚻᚪᛡᚾᛇᚱᛉᚦᚣᛉᚻᛡᚾᚢᛗᛉᚹᛖᛈᛖᚩᚳᛈᚳᛞᚪᛉᚢᛗᛝᛟᛋᚾᛟᛉᚠᚱᚳᛒᚢᛄᚱᚫᛝᛒᛋᛟᛠᛡᚪᛚᛏᛟᚾᚫᛟᚪᛁᛡᛋᚳᛖᚹᛒᚾᛚᛝᚦᚾᛁᛠᛒᛡᚱᚠᛖᛁᚹᚾᚠᛗᚢᚷᚾᛄᛚᚳᚱᛝᚣᛉᛋᚪᛟᚱᛉᚳᛒᚫᚠᚢᚪᛖᚪᚹᛚᚾᛄᛉᚻᚦᛉᛗᛚᚾᛖᛏᛝᚦᚪᚩᚢᛗᚣᚠᛝᚪᚻᛡᛇᛡᛚᛏᛁᛇᛁᚳᚢᚢᛖᚳᛒᚫᛇᚠᚦᚳᛚᚩᛉᛚᚩᛚᚠᚳᛠᚪᚠᛟᚫᚠᚾᚳᚢᛒᚱᚾᛇᚩᛉᛁᚳᛟᛞᛉᛠᛝᚠᚱᛡᚳᛇᛉᛟᛈᛗᛞᚳᚦᚹᛈᛡᚻᚾᚦᛇᛏᚹᛖᚢᚫᛇᚦᛝᛟᛏᚳᚷᛒᛠᚪᚳᛒᚪᚩᚹᚫᛉᚢᚫᛖᛒᛇᛏᚢᚩᛟᛞᚠᚢᛋᛡᛄᛗᚦᛠᛏᚪᛒᚹᚣᛏᛄᚻᚦᚫᛚᚪᚱᚫᛟᚦᚩᚾᛟᛁᛖᛡᚠᚷᛋᚠᚦᛏᛠᛡᛠᛁᚢᛡᛇᛝᛞᛉᛏᚠᛒᚻᚢᛋᚳᚱᛇᚹᛇᛈᛋᚢᛚᚪᛈᚢᚳᛖᚠᛞᛉᚦᛠᛇᛝᚻᚣᚱᛗᛟᚾᛚᛈ\n",
        "ᚹᛞᚱᛄᚪᛝᛞᛁᚦᛏᚷᚢᚹᚳᚻᛖᚩᚪᛖᛉᚪᚢᚳᛁᚱᚳᚹᛠᛇᛏᚦᚳᚻᚢᛡᚹᛟᚷᛇᛈᚢᛈᚦᚷᚣᚢᚪᛗᚹᚳᛖᛝᚱᛠᛞᛏᚻᛄᛁᛈᚻᚠᛉᛝᛈᚾᛒᚳᚪᚷᛋᛟᛉᛠᛈᚪᚩᚷᚠᚳᛡᛄᛠᚢᚠᛋᛚᚣᛚᚢᛒᛉᚱᚣᚾᛁᛠᛚᚹᛋᚠᚦᚪᛠᛈᚷᛏᚷᛡᛟᛠᛡᛒᛉᛄᛒᛖᚾᛞᚠᛠᛗᚦᚪᛗᚠᚪᚻᛡᛗᛁᛏᛟᚻᚣᚹᛏᚠᛒᛁᚫᛖᛝᛒᛚᛏᛠᛉᛟᛋᚾᛉᚹᛏᛠᛏᛖᚢᛡᛖᛉᚾᛇᛟᚳᚾᚠᚩᚾᚠᚳᚪᚷᚱᚩᛠᚦᚹᚣᛒᛁᛝᛇᛟᚣᚷᛗᚩᛁᚷᛄᚩᛇᚢᛁᛉᛝᚪᚱᛉᛏᛄᛞᛈᚾᛝᚷᛏᚢᛚᚷᚳᛏᚢᛒᛇᛈᚩᚣᚢᛏᛡᚫᛏᚹᛏᛇᛡᚫᚫᚦᛏᛝᛠᚳᛁᛉᚻᚦᚣᚻᛚᚾᛋᚱᛡᚫᛚᚫᛖᚷᚻᛞᚾᚻᛠᚠᚪᚹᛖᚠᛄᛒᛇᚱᚹᛏᛉᚾᛠᛖᛁᚠᚾᛡᚳᛋᛟᚹᛈᚷᛝᛟᚷᚦᚠᛄᚷᚳᛒᛁᛗᛚᛇᛠᚹᚾᚫᚹᚷᚩᚻᚪᛏᚾᛄᚣᛝᛏᛡᛝᚢᚩᚠᚣᛗᚢᛒᛏᚠᛈᚱᚩᛉᚩᛝᛒᛖᛏᚩᛉᚣᛗᚠᛉᛖᚩᚫᚷᚣᛚᚩᛇᚠᛋᚫ\n",
        "ᛇᛗᛡᛟᚹᚾᚩᚢᚹᛖᛁᚾᚦᚫᛠᚪᛠᛚᚹᛡᚩᚢᚦᛗᛝᛚᚪᚠᛝᛚᚠᛚᚳᛒᚢᛝᛉᚣᛡᚪᚷᚹᛟᚪᚻᚹᚢᛖᛠᚷᛁᚪᛏᛄᛗᛏᛖᛁᚣᛡᚦᚾᚠᚦᚩᛈᚻᚪᚻᛋᛠᛡᛉᚪᚫᚠᚣᛞᛠᛇᚠᚫᛏᛗᚳᛡᚷᚱᚢᛞᛄᛋᛡᛇᚩᛚᛟᚦᚱᚫᛒᛚᚦᛖᚪᚦᛗᛚᚦᛉᚪᚱᛟᛖᛒᛄᚱᛄᛖᛁᛈᚪᛖᛠᚠᛄᚢᛞᚹᚦᚣᛉᚷᚩᚳᛡᛇᛗᛞᚳᛏᚻᛚᚦᛝᛖᛗᚱᛒᚷᛞᛉᛗᛒᛉᚳᛝᚦᚣᛞᚫᛠᛋᛏᛗᛏᚻᚹᛇᚳᚪᛞᛠᚢᛒᛉᛡᛁᛡᛚᚷᛋᚦᛞᚠᚢᚩᛠᛚᛋᚣᛏᛋᚪᛞᚫᚹᛄᛞᛋᛈᛋᛄᚪᛖᛁᛇᛒᛟᛏᛄᚠᚩᛚᛞᚾᚷᚳᛚᚷᛗᛠᚦᚢᛟᚻᚾᛟᚣᛡᛇᚻᚣᚪᛈᚾᛋᛞᚫᛠᚳᛉᛄᚦᚹᛋᚱᚦᚫᚾᛡᛚᚣᚫᛋᛖᛟᚣᛝᛡᚦᚣᚷᛇᚱᛋᛠᛏᛡᚳᛉᛠᚷᚳᛒᛋᚹᚾᚻᛖᛝᛋᚩᛡᛗᛉᛝᛉᚦᛠᛞᚳᛒᚷᛉᚹᛝᚢᛉᛞᛈᛉᛡᛈᛟᚾᛡᚠᛡᚢᛋᛉᚪᛖᚻᚱᚣᛠᛇᛒᛟᚪᛝᛡᚳᚱᚳᛈᚩᛏᚻᚣᚫᛁᛋᚩᚦᛚᛟᛚᛋᚪᚢᚪᛈᚻ\n",
        "\"\"\"\n",
        "\n",
        "small_encoded = list(map(LiberPrimus.runes_to_int, filter(lambda s: s != \"\", small_blocks.split(\"\\n\"))))\n",
        "for (i, n) in enumerate(small_encoded):\n",
        "  print(i, n.bit_length())\n",
        "print()\n",
        "\n",
        "large_encoded = list(map(LiberPrimus.runes_to_int, filter(lambda s: s != \"\", large_blocks.split(\"\\n\"))))\n",
        "for (i, n) in enumerate(large_encoded):\n",
        "  print(i, n.bit_length())\n",
        "print()\n",
        "\n",
        "for n in small_encoded:\n",
        "  print(\"{0:b}\".format(n))\n",
        "print()\n",
        "  \n",
        "for n in large_encoded:\n",
        "  print(\"{0:01680b}\".format(n))\n",
        "print()\n",
        "\n",
        "for n in large_encoded:\n",
        "  print(\"{0:x}\".format(n))\n",
        "print()"
      ],
      "execution_count": null,
      "outputs": [
        {
          "output_type": "stream",
          "text": [
            "0 840\n",
            "1 840\n",
            "2 840\n",
            "3 841\n",
            "4 839\n",
            "5 838\n",
            "6 839\n",
            "7 838\n",
            "8 840\n",
            "9 837\n",
            "\n",
            "0 1680\n",
            "1 1680\n",
            "2 1679\n",
            "3 1679\n",
            "4 1680\n",
            "\n",
            "101010101110010001011110010111111010011010000001011000101010011101000100111001011011100100110011000101011001011011100111001011011100100100000110011010001000111100110110001010100011000111010101110001110100100111110101100000101111110010010000101100011001010010100011101111010110010010111010000011110000001001001011011100110111101100110110110000111100111000101101110000100001011111110011011000011011110010101011000100001001110110100001000010001001100000111110110100011100111011110000101000111011101000101001111101001101010000011101001100101110101000101010111101111110000001100111101000111111000010110000010110100010001110010001101100000111100110100110011110011111100111011010010011001110110011100110001011110111001100000010000101111001100111010110101011000111010011010100111100011000000100010111110011111000010011000111000101111001000001101101\n",
            "111111111100111000000110111111011001101010111111011010110101100110001000001110010010001110001110011110111101101011010111011011011100011010110011100010100111010000111110000101011100101011111110111000001101100111110010011000101100111110101000001111100000111000000001100000111111110111100001000111100101001001011001111111001000010100110001111000010110001011001001101110011011010010001000010000101100101011100001011011010010101001000111000110000100011111000010100100010100111011101011100000010001110001110110110100001001100011110001011001010101100111111100101111101110001001111100101101001100001100001001010001011010001001000110010111111000100001100110010100001001011101100100010111010010010000100000001001110100010111000011010011101010111110101001100100101001010011100000110110011000111110010010010010110011101110010101110000000001101110111111\n",
            "100101111100001001011001010000100001000111110110100100110001010000011010000100001010110001001111111111110001111001001001000001011000011110110001001111000101101110100111100011111000000011011110010010001011000001100010011100010010101001001010011010011001000001000100001101010010101010100100011001101111111011011111000001001001011010011101010000111111111001011100010000100111100111110001000101111111110000111100010111111010110111011000110011101001011110011110011100000111111011101000000001111110011110110011101111011100101011111101001001001000111010110000110000001001101101010001111011000000110110010110100110100000111011111111010000110111110001110011000001100001101111110000010010010000011101000000000011011000000110000011010000111011101101000000111000111110101000000000001010110101010011000111100000111101001010100110110001100111101010010111\n",
            "1010010110000101011001111000011001100001101000110001101001010000100100000110111000011100001101001001010110111111101000011111111011101100100111110100000000011001110011000101110000000100101101111111010100010111001100100001001101110011101110110001011100101110000010011011010111100110011010000001000000111101110011100101101101111110111100101011010010111011011000011011101111100001111000100000000010111110100011101011110110101100111101100111110010000101110010111011100110111101010110111000100011001001101011110110101101011001111011001010100110001000011101100110101110100000101010001110011111101110110111001010100010100110110001001110011101011001001111101001110000101000101001001001110011101100100000011110110001010000101110100110001001000100111011010001110101000111100010011010001111111111011100101011010111000100110111001101000011100011000001001\n",
            "10101100000101010010010011011000000011010010110100010010100100010101001001010000110111011111010010101010101100110101011110010101000111001100110111101001111010001101001001010001011001000101101110111001000101100110011000111000110100000100001011001001101010110110110110101011010111101010111000101011011100110001010010010000011000001001011110001000010001010100100101011111011011011001000010001111001011001111010001011111010011010100001111110110010010110010001110111011100101001001100001100010110000101001101111000100000001010010101100110001011100101001000011111001101100011111010011011111011111001000110101011101101011110111100001010011001011001000001001011011111100010000001111110010101001101100011101110110011010011101010110001010101110011011011001110101011110101110000000111100100001101001000101101001110010111000100100000110001010011100110\n",
            "1110111110110101000001111100000000000000001111001110010101111100101011111101101010010001100100010010110100000111001001111110101111000001110100000110100010011000000110010111111100010000001101001111100010011111110111011100100010101001111001110110100000100000100000001010110110101100010110010000001100000000111111011000101101010000110000110111010101011000001101001010100111011100110101100100011110111100000010000010011100010100111010101100111100000101001101101111001111111100001011111111101100011001101110001001001000001101101100111000000000011100100100110111001111011100110111100011110010110010000101111110011101011111000100011011110111101101000101111001000001011000001111010110100111000110110001111111100111100010101110111111001010110111111110101111011100101001101110001001001110110000100001011011001111101111000011011000001001111110010000\n",
            "10111001100101001000101001101111111000111100111100101101001111110111000110110101011111100001101111111001011001111101111001110010101110000001110011011110101011101101100110100011011101000001011001001100010000110101101100101110111110101011000101100001110101001100011000001010101011000010110001100100100000001000001011110000010100100011101100100111011111010100111100100001011100001100100000101100010011000101111001011100001001101011010101100110111000111001111111111011001111001111101101010001001101011000001010111110110100001111010101011001000101000110011110010110000111001010111011111111011000100110101101011100001101110001110110011111010111001000111010001110101100111101111000000101001001100011000111010100011111000001111110000111111001111101011101101111010111100000111010100011111101111010000101101011000111111101111001011011000001101010000\n",
            "1100010011100100010001111101000011111110100100001011100101000000110110100001100000101001011000101110111101001000011010001111010011101000011111100010101101001110010001001101000111010011111110111101010110100101111111000100100111101011100010011111000101011111110000000110111111110111010011001011000000110011110111001110011101100011111001111011010110110111100101111011010001110111111110010001111010110110011011000110001110100001110100000000011011101111100110101011001000011100100001111011100000110001011111100011011000100101001011011101011101111111000101001010100101011011100101011001010110011001110001001010011100110010000101010011100110110010011101001011000110010011001010101100010010101111111101000011010101100010101001101101101000011100000011011101100111010001001101011001101100001001000101111100100011010000011110101111001111110100001000\n",
            "100101101111100100001101110000111000000010101101111010001010101000100000001111101000110110011101100111100010001001001101001000011010101010010001110111100100111110000110000100110010101101110101000010000011101101010001100011011000010011101110111110000110110100100001011101100110000110101100111000000010101001011001111000010001001101101101010100100100100000001100100011100000101010010110000011010110011110001011011011001001011001111101001110110111010100101010001110010101111000011001001011101101000111100101100001111000110001010100011000110100110011111010001100010101101110000011010001101000100000001001011110100011001110010010011111111100101110110011111111011110111001010000101100111101010010001001111011010011101100000010000111000111101001010111010111010011110101011101011111110000010101011000010100001001011101010101100100000100111111110010\n",
            "100110001010111010001000010010011100101100101110001001010111101101001010000100110001011000010100101111000000100010010010101101011101101101111010100000101001100101100000000100101111101111111000000111011100010011011110110111010111010000100011100100010000011100000000100011001111000010111101010101110011001001001111110111100101001011101010110111011110110001101011110110100011010011000001110111010101111011100010101000010111101001010101100111111010010111001110111001011000001010000011110011001111001110100110010011101011001011100011010000110110101100001111000110001101100110100001001101101011100111101101101100110001101000001110111001110011000000010100001100111110110101001101111111000010000001000101111010000111011100011101101101111111111000000001010010101010011100010000101101000110101001100000010110001101011000100100010100101011111001101\n",
            "\n",
            "111001100101100001011111010111100001000100101011101010100010011110000010111100100011111001110001011010001101011010000010100110100011000110110101010100110000001001010001011100001000100010011001100000001110011101011001100001011111100111011011011100110000110010100100001010100010110001110111001010110100001101100110001110111100010010100100001011101010011100010111001100101011101011011010111111101101101101101110010011001110111100011100000001001001100101110011101010101110100001001100010100111001001011001010110001101011000110111001101011110010011101010011000110111100010011001111010111100001010001010011000001001111100001000110100100001110011011011000111100101010101011000001000001111110010101001110010011001101100111111000010010100011100000101001000101110100001110001010010010011101101110001101001011101100111000000111101100001000011100101000011001010101110010110101011101101111011111000110101101111000100100000000100011000001110000010010010111011001010101011110111000101000111111101000000101111111111011100001000101011110110100100001010100100001000111100101101100011100100101110100000001010001111000000101001010011110010011110001100011100000100011110101101000010111101000000010110110111101110101101011000101100001001111010011111111010000111000011011100001010101000111000111011001100010000001001110100110100101011000001110110001100000011010001011011010011001000000100001101001110000000010110011001000011100010001000111100000100110110011011101000010111101011000111010001110100110010111000011101011011110110111001110010000010001110100011110100100101010111101000000001101110110011010000011110100101001011001110011100001001000100101100111111100011000000010101100001010010011001010001000\n",
            "110011001000111001010110010111110101010111011111101110100000100110011101100110000011100101101111101011101000000111111001001100010010111011001110100011111000000111001101100001100110100100111001000011100110001100111011100110011001010110011010111101111011011010110100101001110010110000110011001000111001100110000000101110111011100001111011011010000111110100111011001111001001001101110001101011100011000001100010101001010011010100100000011100111101001110000100011011110010110000110100010110100001011000001011111010101011101111100100101010100100111001010101101111011110010011110101110100000001010001100001011001011000100101011110101111110110011010011010000110111011001011001010001001000001100010000100101101100001100111111001010110011001001001000011000001100110000100101111110101010010011100001101010001100111010110110101100111010100001101111100100011010001000011010101010111101100010011100000000000111010001110010110011010111010000001111111011110111101001111101101010011000011011000111111010100000111101011001011011010100001100011110111100110111011100001100000001001111111101111001000100000001101010010110101100110001101001010000111010100001110101010001001011000000100101101111100011001111010100001011100011110011111010101010111001010001011101001111001001010001001111000000111110111001111001101101100011100101011111010100010010000110011000101010101111111010111001001011100111111010010010000101001011100101010110100111101111001010110101001101101110110001111110100110111001111100010111111111100011101110001101010000000101000000010011110100100011001100011011111100110101110011001100110100011010011010011000110110010001001000001010000100101110001100110000100000011101100011111011101110100\n",
            "011100111111100110010110111000010011110000110111101001111010010010100011010010111010010001111011011101100000000001000001110101111110000111101110001111000100000100001000110101101010001001011100111111100100011010110011110001110111101101011101101000101110100011001010011011000100110101010111011000100101011010100001000110001011110101010011011100101101111010010110010000010000110100000001000101100101100110111100110001010111100011001010011000010010011000001101010001111011001001111101010011000011001000100111110001001111010111110001101111100111010100000101110010001001100010100101110000111100110011111111101010010110001001100111111100010111001010001011010101001111110000010111011001111101101000010101100011100011010100101110000001111010111110100101010101111111110010111110101011000100001100101011011100001000010011001000100001000011101011000011101001000101000011011000101010011001010101000110011001101000001000111111000000010110001000101100010100111110011011010100100100001100111000010110101110011000000101110111100010110110011101010100010001001101011000001000010100101110000101010111010101011110000111101110111011110000110010110101010010001101010011111110110111100111011001010100001010110111010101111101101110110001101101101101011001101111110001111010000111011000100111100100111101000010010011101101111101011011010001101000101110001001111000110100000010011100100011110000011110100001001110001101100100111111011111000001110011111101101001001001010001101011110110001111011001010010100100101101001101110111110001010001001100100111011010100101101011010011101010110110101011101010100111100101110011001010111001011101110110110011100100111010010001010000100110111110010111010001110010111110\n",
            "011111010001001001011010000110100101100011101000010010001100001101010000110111001111101101001100011100010010101000001101000110011111101100001010010101100000000111110011101001100101110010010100101001001001011010000101111010010111001011010101111100101000111001100001000111011010100001110000010110110001111010110000111101011010011100110001011000010101001101001110010011001111100110110010111000100110000100110011010111101001001110011011100011101101111001011101101111101100100101001011010111001011010000110001110000010011000001001011100101011001011010010000100010111101001011110011010000011111101001000100001111101111110101000011110001000010111000100101101100111000001110010011010010101010100001110101111011111100010101001010110001101110100010000101100001101100001110001100000001011000010011001000011110000100011101100110111000010111101110010111010001110110111011110101011110000101011111101101010101001100010011110111111111111101111110010101011101010000111000001110111010110100101000011100110010110001010000001110111010111010110001000100000111111011101000111100111001011100001001101101110100101111101101110010000000001000100111001110001111100001010001101011101101001000100111010101011100101011000011101101100101101000101100111110111001011111010011001101011011101110100101111000010111010000110000011001011000000101100100011101111001110111011000000101000011011000010111010101100110000110011111101001010110011001010100100010001001000001101111011110100100001011110001111011000100101010101000000101100100111011111001100001101010010011011111000010001011001101110101000101100001110101011110110001100010101001110110100011111000110011101110000110010000001010011101101110010111101101110000011000\n",
            "110010110111111100000011001000100101101010111110100110000101101110001111010001100011111010000100100100010010010101001001010010000111100011000101110101111011100001101010100010111101001111001011011110110001010111001011011001110011101011101010101001110001101010110011100001110001101101101101000110001110110100001011011111110101001010000110000011100101110000111001010101010110100100100010001011000110101110111011010100110110110000110000011100011011111001010000001100110100000001010110001110101001110101100001010110101100001011010100010000111010100001000000100100111011101000001001111101000001000010111111111100000001111100010100001100010110111100001000000101101001101010011110011100111100011101011011100110111010100100010010010000011110001110100100010010100110101000101000100111100011001111111101011110000101111111010111000110001001110101001011100110010000000100000000011011101100110011101100110011000011101111110101000100010001100100001001001110010011110100100111000011100101100011011111110111011101001110001010110000010011111000010011110011111000001100111101110111100011000101101011001010001011011001011110101110111101011101010011011001101101001101010110111100110000001100001101111110101001001101001010001100000111000111101111010100100001101010011110000001100011011001101001000001010010110000010110000100111010011110010101110100110010001111010110001001001001110101011100001001110110110000100111001001010100000100101001010000011011111000000011110001010000000101011000110000010001000011101111100011001010111111010100000100000111110100110110100000111011100111110111100110101000001011100111010000100101001100011110101101100001010011010001101011011101100110111111010111010111111110010111\n",
            "\n",
            "e6585f5e112baa2782f23e7168d6829a31b553025170889980e75985f9db730ca42a2c772b43663bc4a42ea71732badafedb6e4cef1c049973aae84c5392cac6b1b9af27531bc4cf5e145304f84690e6d8f2aac107e54e4cd9f84a382917438a49db8d2ece07b08728655cb576f7c6b789008c1c125d955ee28fe817fee115ed215211e5b1c974051e0529e4f18e08f5a17a02dbdd6b1613d3fd0e1b8551c766204e9a560ec6068b699021a700b321c447826cdd0bd63a3a65c3adedce411d1e92af40376683d29673848967f180ac293288\n",
            "cc8e565f55dfba099d98396fae81f9312ece8f81cd8669390e633b99959af7b6b4a72c33239980bbb87b687d3b3c9371ae3062a5352073d3846f2c345a160beabbe4aa4e55bde4f5d0146165895ebf669a1bb2ca241884b619f959924306612fd5270d4675b59d437c8d10d55ec4e003a3966ba07f7bd3ed4c363f507acb6a18f79bb86027fbc880d4b598d28750ea89604b7c67a85c79f55728ba79289e07dcf36c72bea2433155fd725cfd242972ad3de56a6dd8fd373e2ffc771a80a027a46637e6b999a34d31b2241425c66103b1f774\n",
            "73f996e13c37a7a4a34ba47b760041d7e1ee3c4108d6a25cfe46b3c77b5da2e8ca6c4d576256a118bd5372de96410d011659bcc578ca61260d47b27d4c3227c4f5f1be7505c898a5c3ccffa96267f1728b54fc1767da158e352e07afa557fcbeac432b7084c8843ac3a450d8a9954666823f01622c53e6d490ce16b981778b675444d60852e15755e1eeef0cb548d4fede76542b757dbb1b6d66fc7a1d89e4f424edf5b468b89e3409c8f07a138d93f7c1cfda4946bd8f65292d377c513276a5ad3ab6aea9e5ccae5ddb393a4509be5d1cbe\n",
            "7d125a1a58e848c350dcfb4c712a0d19fb0a5601f3a65c94a49685e972d5f28e611da8705b1eb0f5a73161534e4cf9b2e261335e939b8ede5dbec94b5cb431c1304b9596908bd2f341fa443efd43c42e25b383934aa875efc54ac6e88586c38c0584c8784766e17b97476ef57857ed54c4f7ffdf95750e0eeb4a1ccb140eebac441fba3ce5c26dd2fb720089ce3e146bb489d572b0ed968b3ee5f4cd6ee9785d0c1960591de776050d85d59867e9599522241bde90bc7b12aa0593be61a937c22cdd458757b18a9da3e33b8640a76e5edc18\n",
            "cb7f03225abe985b8f463e849125494878c5d7b86a8bd3cb7b15cb673aeaa71ab3871b6d18ed0b7f52860e5c395569222c6bbb536c3071be503340563a9d615ac2d443a84093ba09f410bff01f14316f08169a9e73c75b9ba91241e3a44a6a289e33fd785fd7189d4b9901006ecceccc3bf5111909393d270e58dfddd38ac13e13cf833dde316b28b65ebbd75366d356f3030dfa934a3071ef521a9e063669052c1613a795d323d6249d5c276c2725412941be03c50158c110ef8cafd4107d3683b9f79a82e742531eb614d1add9bf5d7f97\n",
            "\n"
          ],
          "name": "stdout"
        }
      ]
    },
    {
      "cell_type": "code",
      "metadata": {
        "id": "rmFgTwqDCIyq",
        "colab": {
          "base_uri": "https://localhost:8080/"
        },
        "outputId": "501668c9-0e59-4f1e-9740-0f6e561e2938"
      },
      "source": [
        "filter(lambda s: s != \"\", large_blocks.split(\"\\n\"))\n",
        "\n",
        "\n",
        "large_encoded = list(map(LiberPrimus.runes_to_int, filter(lambda s: s != \"\", large_blocks.split(\"\\n\"))))\n",
        "for (i, n) in enumerate(large_encoded):\n",
        "  print(i, n.bit_length())\n",
        "print()"
      ],
      "execution_count": null,
      "outputs": [
        {
          "output_type": "stream",
          "text": [
            "0 1680\n",
            "1 1680\n",
            "2 1679\n",
            "3 1679\n",
            "4 1680\n",
            "\n"
          ],
          "name": "stdout"
        }
      ]
    },
    {
      "cell_type": "markdown",
      "metadata": {
        "id": "quwpY6BOPu_l"
      },
      "source": [
        "## Section Sixteen"
      ]
    },
    {
      "cell_type": "code",
      "metadata": {
        "id": "4YXNq7hEPxxF"
      },
      "source": [
        "cipher_text = \"\"\"\n",
        "ᚪ-ᛗᛝᛞᛡᚦᛉᛁᛗ.\n",
        "ᛡᛞᛈᛝᚢᚹᚪᛗ-ᛏᚪᛝ-ᛝᚦᛡᚹᛋᚻ-ᛁᚳ-ᚫᛈᚫᚷᚩ-ᛗᛁᚪ-ᛖᚩ-ᛏᚹᚩ-ᚠᚣᚢᛏᛄ-ᚦᛄᛠᛖᚳᚾᛠ-ᚳᛠᛖ-ᚱᚩᚢᛉ-ᛞᚹᚻᛒᛝᚠᚪᚳᛄᚢ-ᚩᛄᛡᛠᛁᛚᚷᚻ-ᛒᚢᛄ-ᛉᚪᚳᚹᛡ-ᛗᚩᛈᚣᛞᛡᛚᛈ-ᛇᛁᚦᚱ-ᚣᚷᛗ-ᛉᛟᚷᛋ-ᛗᛈᛄᛟᛞ-ᛟᛏᛡᛟ-ᛏᛝᛁ-ᛗᛝᚣᚪᚫ-ᛝ-ᚱᚣᛄ-ᚾᛚᚢᛉᛒ-ᚻᛈᛄᚩᛠ-ᚷᚫᚹ-ᛉᛋᛞᚳ-ᚢᛏ-ᛟᚻᛇᚾᛈᛏ-ᛠᚣᛒᚢᚷ-ᚷᚪᛇ-ᚾᚷᚩᛖᛚᛗᛒᚦ-ᚣᛡᛟᛇᚣ-ᛗᚳᛟᚦ-ᛖᛚᚱᛇᛈᚱᛞᚣ-ᛉᛞ-ᛝᚣᛈ-ᛋᛖᛉᚹ-ᚳᚷᚠᛞᚱᛖ-ᛞᛖᚹᚩᛇᛟ-ᚻᚩᛟ-ᛒᛋ-ᚻᛠᚪᚳᛁᛗᛉᛄᛗᛖ-ᛗᛚ-ᚷᚩᛏᚦᛉᛖᛠᚱᚷᚣᛝ-ᚫᛗᛁᚹ-ᛋᛒ-ᛉᛗ-ᛋᛇᚷᛞᚦᚫ-ᚠᛡᚪᛒᚳᚢ-ᚹᚱ-ᛒᛠᚠᛉᛁᛗᚢᚳᛈᚻᛝᛚᛇ-ᛗᛋᛞᛡᛈᚠ-ᛒᚻᛇᚳ-ᛇᛖ-ᛠᛖᛁᚷᛉᚷᛋ-ᛖᛋᛇᚦᚦᛖᛋ-ᚦᛟ-ᚳᛠᛁᛗᚳᛉ-ᛞᛄᚢ-ᛒᛖᛁ.\n",
        "\"\"\""
      ],
      "execution_count": null,
      "outputs": []
    },
    {
      "cell_type": "code",
      "metadata": {
        "id": "4pLHY0uFy6mI"
      },
      "source": [
        "body_text = \"\"\"\n",
        "ᛡᛞᛈᛝᚢᚹᚪᛗᛏᚪᛝᛝᚦᛡᚹᛋᚻᛁᚳᚫᛈᚫᚷᚩᛗᛁᚪᛖᚩᛏᚹᚩᚠᚣᚢᛏᛄᚦᛄᛠᛖᚳᚾᛠᚳᛠᛖᚱᚩᚢᛉᛞᚹᚻᛒᛝᚠᚪᚳᛄᚢᚩᛄᛡᛠᛁᛚᚷᚻᛒᚢᛄᛉᚪᚳᚹᛡᛗᚩᛈᚣᛞᛡᛚᛈᛇᛁᚦᚱᚣᚷᛗᛉᛟᚷᛋᛗᛈᛄᛟᛞᛟᛏᛡᛟᛏᛝᛁᛗᛝᚣᚪᚫᛝᚱᚣᛄᚾᛚᚢᛉᛒᚻᛈᛄᚩᛠᚷᚫᚹᛉᛋᛞᚳᚢᛏᛟᚻᛇᚾᛈᛏᛠᚣᛒᚢᚷᚷᚪᛇᚾᚷᚩᛖᛚᛗᛒᚦᚣᛡᛟᛇᚣᛗᚳᛟᚦᛖᛚᚱᛇᛈᚱᛞᚣᛉᛞᛝᚣᛈᛋᛖᛉᚹᚳᚷᚠᛞᚱᛖᛞᛖᚹᚩᛇᛟᚻᚩᛟᛒᛋᚻᛠᚪᚳᛁᛗᛉᛄᛗᛖᛗᛚᚷᚩᛏᚦᛉᛖᛠᚱᚷᚣᛝᚫᛗᛁᚹᛋᛒᛉᛗᛋᛇᚷᛞᚦᚫᚠᛡᚪᛒᚳᚢᚹᚱᛒᛠᚠᛉᛁᛗᚢᚳᛈᚻᛝᛚᛇᛗᛋᛞᛡᛈᚠᛒᚻᛇᚳᛇᛖᛠᛖᛁᚷᛉᚷᛋᛖᛋᛇᚦᚦᛖᛋᚦᛟᚳᛠᛁᛗᚳᛉᛞᛄᚢᛒᛖᛁ\n",
        "\"\"\"\n",
        "\n",
        "full_body_text = \"\"\"\n",
        "ᚪᛗᛝᛞᛡᚦᛉᛁᛗᛡᛞᛈᛝᚢᚹᚪᛗᛏᚪᛝᛝᚦᛡᚹᛋᚻᛁᚳᚫᛈᚫᚷᚩᛗᛁᚪᛖᚩᛏᚹᚩᚠᚣᚢᛏᛄᚦᛄᛠᛖᚳᚾᛠᚳᛠᛖᚱᚩᚢᛉᛞᚹᚻᛒᛝᚠᚪᚳᛄᚢᚩᛄᛡᛠᛁᛚᚷᚻᛒᚢᛄᛉᚪᚳᚹᛡᛗᚩᛈᚣᛞᛡᛚᛈᛇᛁᚦᚱᚣᚷᛗᛉᛟᚷᛋᛗᛈᛄᛟᛞᛟᛏᛡᛟᛏᛝᛁᛗᛝᚣᚪᚫᛝᚱᚣᛄᚾᛚᚢᛉᛒᚻᛈᛄᚩᛠᚷᚫᚹᛉᛋᛞᚳᚢᛏᛟᚻᛇᚾᛈᛏᛠᚣᛒᚢᚷᚷᚪᛇᚾᚷᚩᛖᛚᛗᛒᚦᚣᛡᛟᛇᚣᛗᚳᛟᚦᛖᛚᚱᛇᛈᚱᛞᚣᛉᛞᛝᚣᛈᛋᛖᛉᚹᚳᚷᚠᛞᚱᛖᛞᛖᚹᚩᛇᛟᚻᚩᛟᛒᛋᚻᛠᚪᚳᛁᛗᛉᛄᛗᛖᛗᛚᚷᚩᛏᚦᛉᛖᛠᚱᚷᚣᛝᚫᛗᛁᚹᛋᛒᛉᛗᛋᛇᚷᛞᚦᚫᚠᛡᚪᛒᚳᚢᚹᚱᛒᛠᚠᛉᛁᛗᚢᚳᛈᚻᛝᛚᛇᛗᛋᛞᛡᛈᚠᛒᚻᛇᚳᛇᛖᛠᛖᛁᚷᛉᚷᛋᛖᛋᛇᚦᚦᛖᛋᚦᛟᚳᛠᛁᛗᚳᛉᛞᛄᚢᛒᛖᛁ\n",
        "\"\"\""
      ],
      "execution_count": null,
      "outputs": []
    },
    {
      "cell_type": "code",
      "metadata": {
        "colab": {
          "base_uri": "https://localhost:8080/"
        },
        "id": "zWXfWLITy-wK",
        "outputId": "162fca44-5e40-4016-f8e6-78ac2de645b1"
      },
      "source": [
        "encoded = list(map(LiberPrimus.runes_to_int, filter(lambda s: s != \"\", body_text.split(\"\\n\"))))\n",
        "for (i, n) in enumerate(encoded):\n",
        "  print(i, n.bit_length())\n",
        "print()\n",
        "\n",
        "full_encoded = list(map(LiberPrimus.runes_to_int, filter(lambda s: s != \"\", full_body_text.split(\"\\n\"))))\n",
        "for (i, n) in enumerate(full_encoded):\n",
        "  print(i, n.bit_length())\n",
        "print()\n",
        "\n",
        "for n in encoded:\n",
        "  print(\"{0:01456b}\".format(n))\n",
        "print()\n",
        "\n",
        "for n in full_encoded:\n",
        "  print(\"{0:01504b}\".format(n))\n",
        "print()\n",
        "\n"
      ],
      "execution_count": null,
      "outputs": [
        {
          "output_type": "stream",
          "text": [
            "0 1453\n",
            "\n",
            "0 1497\n",
            "\n",
            "0001011001000000011010100011010111101111010100000000011010010000001110101111100100000001101100110011101110001101010111100001110111011110110100010111001011100110110011110100011010001100101001111000001111000010100111000011101000101011001010110001001010110110001001100000001000100111010001011110011000011100100010010110101000011110010010010010110000111100110110101110000001011101011101000011100000000000010100110010111001000100000011010011111000110001001011010010101010011101111111011001110010110011000001010001110011001011000010100110111110110111101100111000011101001110000011000101001000010111100000000000100111010001100010110001001110011010110000111111100101110001101110011001111000111101010101011111011001010010111011111101010011010111010000101110001100001000011101111001100000110110110110001111101111111100110101101100110101001000110010110010010011101010010101101001110110100010000011011011111100001010111101100000111011001000110101110011001100000100100100110001010101101011011111011010111011101100001100100111110110110001001001110011000111010001111011001100000010001101000101011111100001000000100111111111001001100001010101001100110001101011110010111010010110110110110000111011100001001010001001011101000010110010011010001110110000011100011110110000101010000100010111111010111100101010011100100011111011110001001110111011101101111000001110011110000000110111110111100110011011001011100011111011001111010101110101000010011110000011011100001101001101110000\n",
            "\n",
            "0000000100000100100100001011110111100000001000011101001000101100100011111011000101000111111100010110110000001010001001010011011001001110000000111010011110010111001111010100010011011110000111010010000101111111010011110010101010000101111101010011110111011100010111100100101000101100110000110011111101100101000100000111011111001011011001101001001101001101010101001100100011110101100011001100000101111111000010010111011100000100110101011101001100001111010100100110010011101011111011011111010111100111010111011000011010111101111010110001101101000100110111100000101000001111101011000010101011110101101101111010001110111010101100110101001101100000111000001110000001000011010100100110110001011011001001011100010010010111011111111011110100001011111001111110110110010010101000111001111111110000110110101001110010100011100100100101001011000100011100010001010110010011010111000011010110110101111111010111010000111101000001011110111100000010010000101100111010100000010111110101110000000010000101111110001110000100000110101000010100110101101001001010100011111101110001001010111001110101010111000000000101010001101101101000010100000000010110111010111100000010000100010011001010100111111010100101010111100110110100100100000001001011000110010100111000110000000110110000100100011110101111000111110000010110001001010001111000111000001001000100100010110101001110100000010011110001111101001000100110100110011010110010110011000101000001011010011001111011111000000000111010001101010111110100100101111010110000110100101111110011\n",
            "\n"
          ],
          "name": "stdout"
        }
      ]
    },
    {
      "cell_type": "markdown",
      "metadata": {
        "id": "ocuozH3lF66E"
      },
      "source": [
        "## Section Seventeen - An End"
      ]
    },
    {
      "cell_type": "code",
      "metadata": {
        "id": "M1qg66UhFsEJ"
      },
      "source": [
        "cipher_text = \"\"\"\n",
        "ᚫᛄ-ᛟᛋᚱ.\n",
        "ᛗᚣᛚᚩᚻ-ᚩᚫ-ᚳᚦᚷᚹ-ᚹᛚᚫ-ᛉᚩᚪᛈ-ᛗᛞᛞᚢᚷᚹ-ᛚ-ᛞᚾᚣᛄ-ᚳᚠᛡ-ᚫᛏᛈᛇᚪᚦ-ᚳᚫ.\n",
        "36367763ab73783c7af284446c59466b4cd653239a311cb7116d4618dee09a8425893dc7500b464fdaf1672d7bef5e891c6e2274568926a49fb4f45132c2a8b4\n",
        "ᚳᛞ-ᚠᚾ-ᛡᛖ-ᚠᚾᚳᛝ-ᚱᚠ-ᚫᛁᚱᛞᛖ-ᛋᚣᛄᛠᚢᛝᚹ-ᛉᚩ-ᛗᛠᚹᚠ-ᚱᚷᛡ-ᛝᚱᛒ-ᚫᚾᚢᛋ./\n",
        "\"\"\""
      ],
      "execution_count": null,
      "outputs": []
    },
    {
      "cell_type": "code",
      "metadata": {
        "id": "DzOIafhGGx7s"
      },
      "source": [
        "primes = [\n",
        "  2,3,5,7,11,13,17,19,23,29,31,37,41,43,47,53,59,61,67,71,73, \n",
        "  79,83,89,97,101,103,107,109,113,127,131,137,139,149,151,157,163,\n",
        "  167,173,179,181,191,193,197,199,211,223,227,229,233,239,241,251,257,263,\n",
        "  269,271,277,281,283,293,307,311,313,317,331,337,347,349,353,359,367,373,379,383,\n",
        "  389,397,401,409,419,421,431,433,439,443,449,457,461,463,467,479,487,491,499,503,\n",
        "  509,521,523,541,547,557,563,569,571,577,587,593,599,601,607,613,617,619,631,641,\n",
        "  643,647,653,659,661,673,677,683,691,701,709,719,727,733,739,743,751,757,761,769,\n",
        "  773,787,797,809,811,821,823,827,829,839,853,857,859,863,877,881,883,887,907,911,\n",
        "  919,929,937,941,947,953,967,971,977,983,991,997,1009,1013,1019,1021,1031,1033,\n",
        "  1039,1049,1051,1061,1063,1069,1087,1091,1093,1097,1103,1109,1117,1123,1129,\n",
        "  1151,1153,1163,1171,1181,1187,1193,1201,1213,1217,1223,1229,1231,1237,1249,\n",
        "  1259,1277,1279,1283,1289,1291,1297,1301,1303,1307,1319,1321,1327,1361,1367,\n",
        "  1373,1381,1399,1409,1423,1427,1429,1433,1439,1447,1451,1453,1459,1471,1481,\n",
        "  1483,1487,1489,1493,1499,1511,1523,1531,1543,1549,1553,1559,1567,1571,1579,\n",
        "  1583,1597,1601,1607,1609,1613,1619,1621,1627,1637,1657,1663,1667,1669,1693,\n",
        "  1697,1699,1709,1721,1723,1733,1741,1747,1753,1759,1777,1783,1787,1789,1801,\n",
        "  1811,1823,1831,1847,1861,1867,1871,1873,1877,1879,1889,1901,1907,1913,1931,\n",
        "  1933,1949,1951,1973,1979,1987,1993,1997,1999,2003,2011,2017,2027,2029,2039,\n",
        "  2053,2063,2069,2081,2083,2087,\n",
        "]"
      ],
      "execution_count": null,
      "outputs": []
    },
    {
      "cell_type": "code",
      "metadata": {
        "id": "vjVkRPRzGwdk"
      },
      "source": [
        "key = list(map(lambda p: p - 1, primes)) # phi\n",
        "interrupters = {56}"
      ],
      "execution_count": null,
      "outputs": []
    },
    {
      "cell_type": "code",
      "metadata": {
        "id": "ucATJwNRHUd7",
        "colab": {
          "base_uri": "https://localhost:8080/"
        },
        "outputId": "cb252e0b-fb9e-455c-91c3-8921083e7561"
      },
      "source": [
        "nums       = LiberPrimus.runes_to_number_list(cipher_text)  \n",
        "deciphered = map(LiberPrimus.decipher_scheduled_key(key, interrupters), nums)                          \n",
        "print(\"\".join(list(map(LiberPrimus.number_to_latin, deciphered)))) "
      ],
      "execution_count": null,
      "outputs": [
        {
          "output_type": "stream",
          "text": [
            "\n",
            "AN END.\n",
            "WITHIN THE DEEP WEB THERE EXISTS A PAGE THAT HASHES TO.\n",
            "36367763ab73783c7af284446c59466b4cd653239a311cb7116d4618dee09a8425893dc7500b464fdaf1672d7bef5e891c6e2274568926a49fb4f45132c2a8b4\n",
            "IT IS THE DUTY OF EUERY PILGRIM TO SEEK OUT THIS PAGE. \n",
            "\n"
          ],
          "name": "stdout"
        }
      ]
    },
    {
      "cell_type": "markdown",
      "metadata": {
        "id": "o_Qyu0o0FVp_"
      },
      "source": [
        "## Section Eighteen - Parable"
      ]
    },
    {
      "cell_type": "code",
      "metadata": {
        "id": "LxZwcwfTFZFY"
      },
      "source": [
        "cipher_text = \"\"\"\n",
        "ᛈᚪᚱᚪᛒᛚᛖ.\n",
        "ᛚᛁᚳᛖ-ᚦᛖ-ᛁᚾᛋᛏᚪᚱ-ᛏᚢᚾᚾᛖᛚᛝ-ᛏᚩ-ᚦᛖ-ᛋᚢᚱᚠᚪᚳᛖ.\n",
        "ᚹᛖ-ᛗᚢᛋᛏ-ᛋᚻᛖᛞ-ᚩᚢᚱ-ᚩᚹᚾ-ᚳᛁᚱᚳᚢᛗᚠᛖᚱᛖᚾᚳᛖᛋ.\n",
        "ᚠᛁᚾᛞ-ᚦᛖ-ᛞᛁᚢᛁᚾᛁᛏᚣ-ᚹᛁᚦᛁᚾ-ᚪᚾᛞ-ᛖᛗᛖᚱᚷᛖ.\n",
        "\"\"\""
      ],
      "execution_count": null,
      "outputs": []
    },
    {
      "cell_type": "code",
      "metadata": {
        "id": "Ng1tdWZbFgI2",
        "colab": {
          "base_uri": "https://localhost:8080/"
        },
        "outputId": "55fa20a5-53da-4f48-c988-8cf580288d6b"
      },
      "source": [
        "nums = LiberPrimus.runes_to_number_list(cipher_text)               \n",
        "print(\"\".join(list(map(LiberPrimus.number_to_latin, nums)))) "
      ],
      "execution_count": null,
      "outputs": [
        {
          "output_type": "stream",
          "text": [
            "\n",
            "PARABLE.\n",
            "LIKE THE INSTAR TUNNELING TO THE SURFAKE.\n",
            "WE MUST SHED OUR OWN KIRKUMFERENKES.\n",
            "FIND THE DIUINITY WITHIN AND EMERGE.\n",
            "\n"
          ],
          "name": "stdout"
        }
      ]
    }
  ]
}